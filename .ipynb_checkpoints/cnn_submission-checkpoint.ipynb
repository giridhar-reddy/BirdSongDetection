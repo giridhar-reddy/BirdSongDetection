{
 "cells": [
  {
   "cell_type": "code",
   "execution_count": 25,
   "metadata": {
    "collapsed": false
   },
   "outputs": [],
   "source": [
    "from keras.models import Sequential\n",
    "from keras.layers import LSTM, Dense, TimeDistributed, Bidirectional, Conv2D, MaxPooling2D, Flatten\n",
    "from keras.utils import to_categorical\n",
    "import numpy as np\n",
    "import os\n",
    "import pickle\n",
    "from sklearn.preprocessing import OneHotEncoder\n",
    "from sklearn.preprocessing import LabelEncoder\n",
    "import matplotlib.pyplot as plt\n",
    "import pandas as pd\n",
    "import librosa\n",
    "import glob\n",
    "from sklearn.utils import shuffle\n",
    "from io import StringIO\n",
    "import warnings\n",
    "import gc\n",
    "import tensorflow as tf\n",
    "from sklearn.metrics import precision_recall_fscore_support as prfs"
   ]
  },
  {
   "cell_type": "code",
   "execution_count": 2,
   "metadata": {
    "_cell_guid": "b1076dfc-b9ad-4769-8c92-a6c4dae69d19",
    "_uuid": "8f2839f25d086af736a60e9eeb907d3b93b6e0e5",
    "collapsed": true
   },
   "outputs": [],
   "source": [
    "warnings.filterwarnings(\"ignore\")\n",
    "\n",
    "if os.path.exists(\"../input/birdsong-recognition/test_audio/\"):\n",
    "    n_epochs=200\n",
    "    fc=None\n",
    "else:\n",
    "    n_epochs=50\n",
    "    fc=100\n",
    "\n",
    "prob_cutoff = 0.5\n",
    "\n",
    "prepared_test_str = \"\"\"row_id,site,audio_id,seconds\n",
    "bulori/XC128942,bulori/XC128942,bulori/XC128942,5\n",
    "bulori/XC170988,bulori/XC170988,bulori/XC170988,5\n",
    "normoc/XC54018,normoc/XC54018,normoc/XC54018,5\n",
    "normoc/XC62791,normoc/XC62791,normoc/XC62791,5\n",
    "herthr/XC53784,herthr/XC53784,herthr/XC53784,5\n",
    "herthr/XC119596,herthr/XC119596,herthr/XC119596,5\n",
    "brnthr/XC31308,brnthr/XC31308,brnthr/XC31308,5\n",
    "brnthr/XC53695,brnthr/XC53695,brnthr/XC53695,5\n",
    "vesspa/XC17095,vesspa/XC17095,vesspa/XC17095,5\n",
    "vesspa/XC17096,vesspa/XC17096,vesspa/XC17096,5\n",
    "solsan/XC17025,solsan/XC17025,solsan/XC17025,5\n",
    "norfli/XC11578,norfli/XC11578,norfli/XC11578,5\n",
    "lesnig/XC27724,lesnig/XC27724,lesnig/XC27724,5\n",
    "grycat/XC31058,grycat/XC31058,grycat/XC31058,5\n",
    "eastow/XC53188,eastow/XC53188,eastow/XC53188,5\n",
    "aldfly/XC2628,aldfly/XC2628,aldfly/XC2628,5\n",
    "ameavo/XC99571,ameavo/XC99571,ameavo/XC99571,5\n",
    "amebit/XC127371,amebit/XC127371,amebit/XC127371,5\n",
    "amecro/XC51410,amecro/XC51410,amecro/XC51410,5\n",
    "amegfi/XC17120,amegfi/XC17120,amegfi/XC17120,5\n",
    "\"\"\""
   ]
  },
  {
   "cell_type": "code",
   "execution_count": 3,
   "metadata": {
    "collapsed": true
   },
   "outputs": [],
   "source": [
    "def load_test_audio(path):\n",
    "    signal, blah = librosa.load(path, sr=22050)\n",
    "    \n",
    "    if len(signal.shape)==1:\n",
    "        y = signal\n",
    "    else:\n",
    "        y = np.average(signal, axis=1)\n",
    "    \n",
    "    return signal\n",
    "    \n",
    "\n",
    "def getBirdMfcc(bird, n_mfcc=50, filecount=None):\n",
    "    birddirectory = \"data/mfcc_50/\" + bird + \".pickle\"\n",
    "    mfcc = pickle.load(open(birddirectory,'rb')).T\n",
    "    return mfcc"
   ]
  },
  {
   "cell_type": "code",
   "execution_count": 4,
   "metadata": {
    "collapsed": false,
    "scrolled": true
   },
   "outputs": [
    {
     "data": {
      "text/plain": [
       "OneHotEncoder(categorical_features='all', dtype=<class 'float'>,\n",
       "       handle_unknown='error', n_values='auto', sparse=False)"
      ]
     },
     "execution_count": 4,
     "metadata": {},
     "output_type": "execute_result"
    }
   ],
   "source": [
    "n_birds = 1\n",
    "neg_folds = 10\n",
    "mfcc_directory = 'data/mfcc_50/'\n",
    "birds = [f.split(\".\")[0] for f in os.listdir(mfcc_directory)][180:180+neg_folds*n_birds]\n",
    "\n",
    "ohe = OneHotEncoder(sparse=False)\n",
    "le = LabelEncoder()\n",
    "\n",
    "features = np.array(birds[:n_birds])\n",
    "fint = le.fit_transform(features).reshape(len(features),1)\n",
    "\n",
    "ohe.fit(fint)"
   ]
  },
  {
   "cell_type": "code",
   "execution_count": 40,
   "metadata": {
    "collapsed": false
   },
   "outputs": [],
   "source": [
    "dataMap = {}\n",
    "testMap = {}\n",
    "\n",
    "for bird in birds:\n",
    "    bird_mfcc = getBirdMfcc(bird, filecount=fc)\n",
    "    train_samples = int(0.9*bird_mfcc.shape[0])\n",
    "    test_samples = -1*int(0.1*bird_mfcc.shape[0])\n",
    "    dataMap[bird] = bird_mfcc[:train_samples,]\n",
    "    testMap[bird] = bird_mfcc[test_samples:,]"
   ]
  },
  {
   "cell_type": "code",
   "execution_count": 7,
   "metadata": {
    "collapsed": false
   },
   "outputs": [
    {
     "ename": "KeyError",
     "evalue": "'aldfly'",
     "output_type": "error",
     "traceback": [
      "\u001b[1;31m---------------------------------------------------------------------------\u001b[0m",
      "\u001b[1;31mKeyError\u001b[0m                                  Traceback (most recent call last)",
      "\u001b[1;32m<ipython-input-7-8b62c7a08c03>\u001b[0m in \u001b[0;36m<module>\u001b[1;34m()\u001b[0m\n\u001b[1;32m----> 1\u001b[1;33m \u001b[0mtester\u001b[0m \u001b[1;33m=\u001b[0m \u001b[0mdataMap\u001b[0m\u001b[1;33m[\u001b[0m\u001b[1;34m\"aldfly\"\u001b[0m\u001b[1;33m]\u001b[0m\u001b[1;33m[\u001b[0m\u001b[1;33m:\u001b[0m\u001b[1;36m10000\u001b[0m\u001b[1;33m,\u001b[0m\u001b[1;33m:\u001b[0m\u001b[1;33m]\u001b[0m\u001b[1;33m\u001b[0m\u001b[0m\n\u001b[0m\u001b[0;32m      2\u001b[0m \u001b[0mprint\u001b[0m\u001b[1;33m(\u001b[0m\u001b[0mtester\u001b[0m\u001b[1;33m.\u001b[0m\u001b[0mshape\u001b[0m\u001b[1;33m)\u001b[0m\u001b[1;33m\u001b[0m\u001b[0m\n\u001b[0;32m      3\u001b[0m \u001b[0mmags\u001b[0m \u001b[1;33m=\u001b[0m \u001b[1;33m(\u001b[0m\u001b[0mnp\u001b[0m\u001b[1;33m.\u001b[0m\u001b[0mdiagonal\u001b[0m\u001b[1;33m(\u001b[0m\u001b[0mnp\u001b[0m\u001b[1;33m.\u001b[0m\u001b[0mmatmul\u001b[0m\u001b[1;33m(\u001b[0m\u001b[0mtester\u001b[0m\u001b[1;33m,\u001b[0m\u001b[0mtester\u001b[0m\u001b[1;33m.\u001b[0m\u001b[0mT\u001b[0m\u001b[1;33m)\u001b[0m\u001b[1;33m)\u001b[0m\u001b[1;33m)\u001b[0m\u001b[1;33m\u001b[0m\u001b[0m\n\u001b[0;32m      4\u001b[0m \u001b[0mprint\u001b[0m\u001b[1;33m(\u001b[0m\u001b[0mmags\u001b[0m\u001b[1;33m)\u001b[0m\u001b[1;33m\u001b[0m\u001b[0m\n\u001b[0;32m      5\u001b[0m \u001b[0mprint\u001b[0m\u001b[1;33m(\u001b[0m\u001b[0mmax\u001b[0m\u001b[1;33m(\u001b[0m\u001b[0mmags\u001b[0m\u001b[1;33m)\u001b[0m\u001b[1;33m,\u001b[0m\u001b[0mmin\u001b[0m\u001b[1;33m(\u001b[0m\u001b[0mmags\u001b[0m\u001b[1;33m)\u001b[0m\u001b[1;33m)\u001b[0m\u001b[1;33m\u001b[0m\u001b[0m\n",
      "\u001b[1;31mKeyError\u001b[0m: 'aldfly'"
     ]
    }
   ],
   "source": [
    "tester = dataMap[\"aldfly\"][:10000,:]\n",
    "print(tester.shape)\n",
    "mags = (np.diagonal(np.matmul(tester,tester.T)))\n",
    "print(mags)\n",
    "print(max(mags),min(mags))\n",
    "len(mags)"
   ]
  },
  {
   "cell_type": "code",
   "execution_count": 41,
   "metadata": {
    "collapsed": false
   },
   "outputs": [
    {
     "data": {
      "text/plain": [
       "['pinsis',\n",
       " 'pinwar',\n",
       " 'plsvir',\n",
       " 'prawar',\n",
       " 'purfin',\n",
       " 'pygnut',\n",
       " 'rebmer',\n",
       " 'rebnut',\n",
       " 'rebsap',\n",
       " 'rebwoo']"
      ]
     },
     "execution_count": 41,
     "metadata": {},
     "output_type": "execute_result"
    }
   ],
   "source": [
    "birds"
   ]
  },
  {
   "cell_type": "code",
   "execution_count": 42,
   "metadata": {
    "collapsed": false
   },
   "outputs": [
    {
     "name": "stdout",
     "output_type": "stream",
     "text": [
      "(None, 211, 50, 4)\n",
      "conv2d_11 (5, 1, 1, 4)\n",
      "(None, 71, 50, 4)\n",
      "(None, 69, 48, 4)\n",
      "conv2d_12 (3, 3, 4, 4)\n",
      "(None, 9, 48, 4)\n",
      "(None, 1728)\n",
      "(None, 1)\n"
     ]
    },
    {
     "data": {
      "text/plain": [
       "16037"
      ]
     },
     "execution_count": 42,
     "metadata": {},
     "output_type": "execute_result"
    }
   ],
   "source": [
    "model = Sequential()\n",
    "\n",
    "# model.add(Bidirectional(LSTM(10, return_sequences=True), input_shape=(None, 50)))\n",
    "# model.add(Bidirectional(LSTM(10, return_sequences=True)))\n",
    "# model.add(Dense(25, activation = 'sigmoid'))\n",
    "\n",
    "model.add(Conv2D(4, kernel_size=(5, 1), activation='relu', input_shape=(215, 50, 1)))\n",
    "model.add(MaxPooling2D((3, 1), padding='same'))\n",
    "model.add(Conv2D(4, kernel_size=(3, 3), activation='relu'))\n",
    "model.add(MaxPooling2D((8, 1), strides=(8,1), padding='same'))\n",
    "model.add(Flatten())\n",
    "model.add(Dense(n_birds, activation='sigmoid'))\n",
    "\n",
    "for layer in model.layers:\n",
    "    print(layer.output_shape)\n",
    "    if \"conv\" in layer.name:\n",
    "        filters, biases = layer.get_weights()\n",
    "        print(layer.name, filters.shape)\n",
    "\n",
    "model.compile(loss='binary_crossentropy',\n",
    "              optimizer='adam',\n",
    "              metrics=['accuracy'])\n",
    "\n",
    "gc.collect()"
   ]
  },
  {
   "cell_type": "code",
   "execution_count": 47,
   "metadata": {
    "collapsed": false,
    "scrolled": true
   },
   "outputs": [
    {
     "name": "stdout",
     "output_type": "stream",
     "text": [
      "Epoch 1/50\n",
      "30/30 [==============================] - 4s 144ms/step - loss: 0.3658 - acc: 0.8444 - val_loss: 1.0700 - val_acc: 0.6500\n",
      "Epoch 2/50\n",
      "30/30 [==============================] - 6s 207ms/step - loss: 0.4033 - acc: 0.8278 - val_loss: 0.8821 - val_acc: 0.6917\n",
      "Epoch 3/50\n",
      "30/30 [==============================] - 4s 148ms/step - loss: 0.4109 - acc: 0.8259 - val_loss: 0.8526 - val_acc: 0.6700\n",
      "Epoch 4/50\n",
      "30/30 [==============================] - 6s 186ms/step - loss: 0.4089 - acc: 0.8241 - val_loss: 0.8760 - val_acc: 0.6675\n",
      "Epoch 5/50\n",
      "30/30 [==============================] - 5s 170ms/step - loss: 0.4038 - acc: 0.8481 - val_loss: 0.9717 - val_acc: 0.6017\n",
      "Epoch 6/50\n",
      "30/30 [==============================] - 5s 155ms/step - loss: 0.4105 - acc: 0.8315 - val_loss: 1.1776 - val_acc: 0.5689\n",
      "Epoch 7/50\n",
      "30/30 [==============================] - 6s 191ms/step - loss: 0.3784 - acc: 0.8426 - val_loss: 0.9054 - val_acc: 0.6497\n",
      "Epoch 8/50\n",
      "30/30 [==============================] - 5s 152ms/step - loss: 0.4128 - acc: 0.8556 - val_loss: 1.1004 - val_acc: 0.6189\n",
      "Epoch 9/50\n",
      "30/30 [==============================] - 6s 214ms/step - loss: 0.3919 - acc: 0.8352 - val_loss: 0.8439 - val_acc: 0.6553\n",
      "Epoch 10/50\n",
      "30/30 [==============================] - 4s 141ms/step - loss: 0.3638 - acc: 0.8556 - val_loss: 0.9400 - val_acc: 0.6467\n",
      "Epoch 11/50\n",
      "30/30 [==============================] - 5s 180ms/step - loss: 0.3273 - acc: 0.8778 - val_loss: 0.9318 - val_acc: 0.6528\n",
      "Epoch 12/50\n",
      "30/30 [==============================] - 5s 157ms/step - loss: 0.3707 - acc: 0.8704 - val_loss: 0.9868 - val_acc: 0.6356\n",
      "Epoch 13/50\n",
      "30/30 [==============================] - 4s 133ms/step - loss: 0.3805 - acc: 0.8481 - val_loss: 0.9836 - val_acc: 0.6478\n",
      "Epoch 14/50\n",
      "30/30 [==============================] - 4s 136ms/step - loss: 0.3432 - acc: 0.8611 - val_loss: 0.9560 - val_acc: 0.6333\n",
      "Epoch 15/50\n",
      "30/30 [==============================] - 4s 143ms/step - loss: 0.3849 - acc: 0.8500 - val_loss: 0.8855 - val_acc: 0.6472\n",
      "Epoch 16/50\n",
      "30/30 [==============================] - 5s 153ms/step - loss: 0.3555 - acc: 0.8537 - val_loss: 0.9160 - val_acc: 0.6667\n",
      "Epoch 17/50\n",
      "30/30 [==============================] - 5s 152ms/step - loss: 0.3848 - acc: 0.8481 - val_loss: 0.9154 - val_acc: 0.6425\n",
      "Epoch 18/50\n",
      "30/30 [==============================] - 6s 188ms/step - loss: 0.3246 - acc: 0.8907 - val_loss: 0.9258 - val_acc: 0.6619\n",
      "Epoch 19/50\n",
      "30/30 [==============================] - 5s 177ms/step - loss: 0.3649 - acc: 0.8741 - val_loss: 0.8193 - val_acc: 0.6564\n",
      "Epoch 20/50\n",
      "30/30 [==============================] - 4s 143ms/step - loss: 0.3914 - acc: 0.8481 - val_loss: 1.0322 - val_acc: 0.5994\n",
      "Epoch 21/50\n",
      "30/30 [==============================] - 5s 168ms/step - loss: 0.3548 - acc: 0.8648 - val_loss: 1.0152 - val_acc: 0.6294\n",
      "Epoch 22/50\n",
      "30/30 [==============================] - 5s 162ms/step - loss: 0.3336 - acc: 0.8648 - val_loss: 1.0414 - val_acc: 0.6083\n",
      "Epoch 23/50\n",
      "30/30 [==============================] - 4s 144ms/step - loss: 0.4061 - acc: 0.8630 - val_loss: 0.8411 - val_acc: 0.6397\n",
      "Epoch 24/50\n",
      "30/30 [==============================] - 5s 171ms/step - loss: 0.4028 - acc: 0.8389 - val_loss: 0.8643 - val_acc: 0.6308\n",
      "Epoch 25/50\n",
      "30/30 [==============================] - 5s 170ms/step - loss: 0.3911 - acc: 0.8389 - val_loss: 0.8176 - val_acc: 0.6264\n",
      "Epoch 26/50\n",
      "30/30 [==============================] - 5s 174ms/step - loss: 0.3834 - acc: 0.8463 - val_loss: 0.8992 - val_acc: 0.6772\n",
      "Epoch 27/50\n",
      "30/30 [==============================] - 5s 161ms/step - loss: 0.3826 - acc: 0.8389 - val_loss: 0.9070 - val_acc: 0.6739\n",
      "Epoch 28/50\n",
      "30/30 [==============================] - 5s 156ms/step - loss: 0.3372 - acc: 0.8444 - val_loss: 0.8712 - val_acc: 0.6728\n",
      "Epoch 29/50\n",
      "30/30 [==============================] - 5s 162ms/step - loss: 0.4085 - acc: 0.8611 - val_loss: 0.8706 - val_acc: 0.6644\n",
      "Epoch 30/50\n",
      "30/30 [==============================] - 5s 173ms/step - loss: 0.3848 - acc: 0.8556 - val_loss: 0.8023 - val_acc: 0.6733\n",
      "Epoch 31/50\n",
      "30/30 [==============================] - 5s 176ms/step - loss: 0.4341 - acc: 0.8111 - val_loss: 1.0429 - val_acc: 0.6531\n",
      "Epoch 32/50\n",
      "30/30 [==============================] - 5s 183ms/step - loss: 0.3826 - acc: 0.8519 - val_loss: 0.8823 - val_acc: 0.6294\n",
      "Epoch 33/50\n",
      "30/30 [==============================] - 5s 152ms/step - loss: 0.3883 - acc: 0.8611 - val_loss: 0.9775 - val_acc: 0.6175\n",
      "Epoch 34/50\n",
      "30/30 [==============================] - 6s 190ms/step - loss: 0.3489 - acc: 0.8630 - val_loss: 0.8364 - val_acc: 0.6739\n",
      "Epoch 35/50\n",
      "30/30 [==============================] - 5s 160ms/step - loss: 0.3843 - acc: 0.8296 - val_loss: 1.0029 - val_acc: 0.6103\n",
      "Epoch 36/50\n",
      "30/30 [==============================] - 5s 159ms/step - loss: 0.3575 - acc: 0.8574 - val_loss: 1.1182 - val_acc: 0.5578\n",
      "Epoch 37/50\n",
      "30/30 [==============================] - 5s 172ms/step - loss: 0.3575 - acc: 0.8481 - val_loss: 0.9912 - val_acc: 0.6481\n",
      "Epoch 38/50\n",
      "30/30 [==============================] - 7s 218ms/step - loss: 0.3247 - acc: 0.8870 - val_loss: 0.9231 - val_acc: 0.6233\n",
      "Epoch 39/50\n",
      "30/30 [==============================] - 5s 162ms/step - loss: 0.4202 - acc: 0.8278 - val_loss: 0.9739 - val_acc: 0.6414\n",
      "Epoch 40/50\n",
      "30/30 [==============================] - 5s 160ms/step - loss: 0.3778 - acc: 0.8519 - val_loss: 1.0145 - val_acc: 0.5956\n",
      "Epoch 41/50\n",
      "30/30 [==============================] - 4s 149ms/step - loss: 0.4142 - acc: 0.8241 - val_loss: 0.8295 - val_acc: 0.6631\n",
      "Epoch 42/50\n",
      "30/30 [==============================] - 5s 182ms/step - loss: 0.3798 - acc: 0.8574 - val_loss: 0.8290 - val_acc: 0.6797\n",
      "Epoch 43/50\n",
      "30/30 [==============================] - 5s 172ms/step - loss: 0.4282 - acc: 0.8389 - val_loss: 0.8643 - val_acc: 0.6350\n",
      "Epoch 44/50\n",
      "30/30 [==============================] - 5s 160ms/step - loss: 0.3314 - acc: 0.8630 - val_loss: 1.0194 - val_acc: 0.6283\n",
      "Epoch 45/50\n",
      "30/30 [==============================] - 6s 188ms/step - loss: 0.3610 - acc: 0.8556 - val_loss: 0.8380 - val_acc: 0.6700\n",
      "Epoch 46/50\n",
      "30/30 [==============================] - 5s 168ms/step - loss: 0.3611 - acc: 0.8519 - val_loss: 0.8814 - val_acc: 0.6592\n",
      "Epoch 47/50\n",
      "30/30 [==============================] - 5s 181ms/step - loss: 0.3872 - acc: 0.8370 - val_loss: 0.9689 - val_acc: 0.6108\n",
      "Epoch 48/50\n",
      "30/30 [==============================] - 5s 172ms/step - loss: 0.3299 - acc: 0.8611 - val_loss: 0.8282 - val_acc: 0.6939\n",
      "Epoch 49/50\n",
      "30/30 [==============================] - 5s 180ms/step - loss: 0.3721 - acc: 0.8481 - val_loss: 1.0472 - val_acc: 0.6497\n",
      "Epoch 50/50\n",
      "30/30 [==============================] - 4s 121ms/step - loss: 0.3872 - acc: 0.8481 - val_loss: 0.8886 - val_acc: 0.6572\n"
     ]
    }
   ],
   "source": [
    "def train_generator():\n",
    "    while True:\n",
    "        sequence_length = 215\n",
    "        \n",
    "        xarr = []\n",
    "        yarr = []\n",
    "        for k,v in dataMap.items():\n",
    "            nsamples = v.shape[0]\n",
    "            size=9\n",
    "            if k not in birds[:n_birds]:\n",
    "                size = 1\n",
    "            samples = np.random.randint(0,nsamples-sequence_length+1,size=size)\n",
    "            try:\n",
    "                birdohe = ohe.transform(le.transform([k]).reshape(1,1))\n",
    "            except:\n",
    "                birdohe = np.array([[0]*n_birds])\n",
    "            for sample in samples:\n",
    "#                 xarr.append(v[sample:sample+sequence_length,:].reshape(1,sequence_length,50))\n",
    "#                 yarr.append(np.tile(birdohe,(sequence_length,1)).reshape(1,sequence_length,n_birds))\n",
    "                \n",
    "                xf = v[sample:sample+sequence_length,:]\n",
    "                lb, ub = xf.min(), xf.max()\n",
    "                xp, yp = [xf < lb, xf > ub , np.logical_not(np.logical_and(xf < lb , xf > ub))], [0, 1, lambda x: (x-lb)/ub]\n",
    "                xt = np.piecewise(xf, xp, yp)\n",
    "                \n",
    "                xarr.append(xt.reshape(1,sequence_length,50,1))\n",
    "                yarr.append(birdohe.reshape(1,n_birds))\n",
    "        x_train = np.concatenate(xarr)\n",
    "        y_train = np.concatenate(yarr)\n",
    "        x_train, y_train = shuffle(x_train, y_train)\n",
    "        yield x_train, y_train\n",
    "\n",
    "def test_generator():\n",
    "    sequence_length = 215\n",
    "\n",
    "    xarr = []\n",
    "    yarr = []\n",
    "    for k,v in testMap.items():\n",
    "        nsamples = v.shape[0]\n",
    "        size=1800\n",
    "        if k not in birds[:n_birds]:\n",
    "            size = 200\n",
    "        samples = np.random.randint(0,nsamples-sequence_length+1,size=size)\n",
    "        try:\n",
    "            birdohe = ohe.transform(le.transform([k]).reshape(1,1))\n",
    "        except:\n",
    "            birdohe = np.array([[0]*n_birds])\n",
    "        for sample in samples:\n",
    "#             xarr.append(v[sample:sample+sequence_length,:].reshape(1,sequence_length,50))\n",
    "#             yarr.append(np.tile(birdohe,(sequence_length,1)).reshape(1,sequence_length,n_birds))\n",
    "\n",
    "            xf = v[sample:sample+sequence_length,:]\n",
    "            lb, ub = xf.min(), xf.max()\n",
    "            xp, yp = [xf < lb, xf > ub , np.logical_not(np.logical_and(xf < lb , xf > ub))], [0, 1, lambda x: (x-lb)/ub]\n",
    "            xt = np.piecewise(xf, xp, yp)\n",
    "\n",
    "            xarr.append(xt.reshape(1,sequence_length,50,1))\n",
    "            yarr.append(birdohe.reshape(1,n_birds))\n",
    "    x_train = np.concatenate(xarr)\n",
    "    y_train = np.concatenate(yarr)\n",
    "#     x_train, y_train = shuffle(x_train, y_train)\n",
    "    return x_train, y_train\n",
    "\n",
    "x_val,y_val = test_generator()\n",
    "\n",
    "# x,y = train_generator()\n",
    "history = model.fit_generator(train_generator(), steps_per_epoch=30, epochs=50, verbose=1, validation_data=(x_val, y_val))"
   ]
  },
  {
   "cell_type": "code",
   "execution_count": 48,
   "metadata": {
    "collapsed": false
   },
   "outputs": [],
   "source": [
    "plt.subplot(2,1,1)\n",
    "plt.plot(history.history[\"loss\"])\n",
    "plt.plot(history.history[\"val_loss\"])\n",
    "\n",
    "plt.subplot(2,1,2)\n",
    "plt.plot(history.history[\"acc\"])\n",
    "plt.plot(history.history[\"val_acc\"])\n",
    "plt.show()"
   ]
  },
  {
   "cell_type": "code",
   "execution_count": 49,
   "metadata": {
    "collapsed": false
   },
   "outputs": [
    {
     "data": {
      "text/plain": [
       "(array([0.72109375, 0.62198276]),\n",
       " array([0.51277778, 0.80166667]),\n",
       " array([0.59935065, 0.70048544]),\n",
       " array([1800, 1800], dtype=int64))"
      ]
     },
     "execution_count": 49,
     "metadata": {},
     "output_type": "execute_result"
    }
   ],
   "source": [
    "preds = model.predict(x_val)\n",
    "preds[preds > 0.5] = 1\n",
    "preds[preds <= 0.5] = 0\n",
    "\n",
    "prfs(y_val,preds,labels=[1,0])"
   ]
  },
  {
   "cell_type": "code",
   "execution_count": null,
   "metadata": {
    "collapsed": true
   },
   "outputs": [],
   "source": [
    "if os.path.exists(\"../input/birdsong-recognition/test_audio/\"):\n",
    "    test_dir = \"../input/birdsong-recognition/test_audio/\"\n",
    "    testtable = pd.read_csv(\"../input/birdsong-recognition/test.csv\")\n",
    "else:\n",
    "    test_dir = \"../input/birdsong-recognition/train_audio/\"\n",
    "    testtable = pd.read_csv(StringIO(prepared_test_str))\n",
    "\n",
    "\n",
    "def load_test_clip(signal, start_time, duration=5):\n",
    "    sr=22050\n",
    "    maxl = len(signal)\n",
    "    \n",
    "    if duration!=None:\n",
    "        y = signal[max(0,int(start_time)*22050):min(int(start_time+duration)*22050,maxl)]\n",
    "    else:\n",
    "        y = signal[max(0,start_time*22050):]\n",
    "    \n",
    "    mfcc_feat = librosa.feature.mfcc(n_mfcc=50, y=y, sr=22050)\n",
    "    return mfcc_feat.T\n",
    "\n",
    "def make_prediction(sound_clip):\n",
    "    predidx = [i for i,each in enumerate(make_probabilities(sound_clip)) if each>prob_cutoff]\n",
    "    if len(predidx)==0:\n",
    "        predbirds = \"nocall\"\n",
    "    else:\n",
    "        predbirds = \" \".join(list(le.inverse_transform(predidx)))\n",
    "    \n",
    "    return predbirds\n",
    "\n",
    "def make_probabilities(sound_clip):\n",
    "    mfccdim = sound_clip.shape\n",
    "    sound_clip = sound_clip.reshape(1,mfccdim[0],mfccdim[1])\n",
    "    \n",
    "    pred = model.predict(sound_clip).reshape(mfccdim[0],5)\n",
    "    \n",
    "    return np.mean(pred,axis=0)"
   ]
  },
  {
   "cell_type": "code",
   "execution_count": null,
   "metadata": {
    "collapsed": true
   },
   "outputs": [],
   "source": [
    "test_info = testtable.sort_values(\"audio_id\")\n",
    "\n",
    "preds = []\n",
    "sound_read = \"\"\n",
    "for index, row in test_info.iterrows():\n",
    "    # Get test row information\n",
    "    site = row['site']\n",
    "    try:\n",
    "        start_time = row['seconds'] - 5\n",
    "    except:\n",
    "        start_time = 0\n",
    "    row_id = row['row_id']\n",
    "    audio_id = row['audio_id']\n",
    "\n",
    "    try:\n",
    "        if sound_read != audio_id:\n",
    "            sound_audio = load_test_audio(test_dir + audio_id + '.mp3')\n",
    "            sound_read = audio_id\n",
    "    except:\n",
    "        print(\"exception\")\n",
    "        pred = \"nocall\"\n",
    "        preds.append(pred)\n",
    "        continue\n",
    "        \n",
    "    if site == 'site_3':\n",
    "        sound_clip = load_test_clip(sound_audio, 0, duration=None)\n",
    "    else:\n",
    "        sound_clip = load_test_clip(sound_audio, start_time)\n",
    "            \n",
    "    \n",
    "    pred = make_prediction(sound_clip)\n",
    "    preds.append(pred)\n",
    "    \n",
    "testtable = test_info.sort_index()\n",
    "\n",
    "test_submission = testtable.drop(['site', 'audio_id', 'seconds'], axis = 1) \n",
    "test_submission['birds'] = preds\n",
    "\n",
    "test_submission.to_csv('submission.csv', index = None)"
   ]
  },
  {
   "cell_type": "code",
   "execution_count": null,
   "metadata": {
    "collapsed": true
   },
   "outputs": [],
   "source": [
    "print(test_submission.head(20))"
   ]
  }
 ],
 "metadata": {
  "anaconda-cloud": {},
  "kernelspec": {
   "display_name": "Python [Root]",
   "language": "python",
   "name": "Python [Root]"
  },
  "language_info": {
   "codemirror_mode": {
    "name": "ipython",
    "version": 3
   },
   "file_extension": ".py",
   "mimetype": "text/x-python",
   "name": "python",
   "nbconvert_exporter": "python",
   "pygments_lexer": "ipython3",
   "version": "3.5.2"
  }
 },
 "nbformat": 4,
 "nbformat_minor": 4
}
