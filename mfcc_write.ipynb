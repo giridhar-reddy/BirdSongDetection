{
 "cells": [
  {
   "cell_type": "code",
   "execution_count": null,
   "metadata": {
    "collapsed": true
   },
   "outputs": [],
   "source": [
    "import DataLoader,DomainManipulation\n",
    "import Modeling\n",
    "import pickle\n",
    "import os\n",
    "import numpy as np\n",
    "\n",
    "directory = 'data/train_audio/'\n",
    "mfcc_directory = 'data/mfcc_50/'"
   ]
  },
  {
   "cell_type": "code",
   "execution_count": null,
   "metadata": {
    "collapsed": true
   },
   "outputs": [],
   "source": [
    "# function to calculate mfcc\n",
    "def getBirdMfcc(bird, n_mfcc=50):\n",
    "    birddirectory = directory + \"/\" + bird\n",
    "    files = os.listdir(birddirectory)\n",
    "    mfcc = None\n",
    "\n",
    "    for fileName in files:\n",
    "        file = os.path.join(birddirectory + \"/\", fileName)\n",
    "        print(\"reading file: {}\".format(file))\n",
    "        new_y, sr, new_t = DataLoader.readFromFile(file)\n",
    "        new_mfcc = DomainManipulation.mfcc(new_y, n_mfcc)\n",
    "        try:\n",
    "            mfcc = np.concatenate([mfcc, new_mfcc], axis = 1)\n",
    "        except ValueError:\n",
    "            if mfcc == None:\n",
    "                mfcc = new_mfcc\n",
    "            else:\n",
    "                raise ValueError\n",
    "    return mfcc"
   ]
  },
  {
   "cell_type": "code",
   "execution_count": null,
   "metadata": {
    "collapsed": true
   },
   "outputs": [],
   "source": [
    "# write pickles for all birds\n",
    "birds = os.listdir(directory)\n",
    "for bird in birds:\n",
    "    bird_mfcc = getBirdMfcc(bird, n_mfcc=50)\n",
    "    pickle.dump(bird_mfcc, open(mfcc_directory+bird+\".pickle\", 'wb+'))"
   ]
  },
  {
   "cell_type": "code",
   "execution_count": 3,
   "metadata": {
    "collapsed": false
   },
   "outputs": [],
   "source": [
    "# test pickles\n",
    "ald = pickle.load(open(mfcc_directory + \"aldfly.pickle\",'rb'))\n",
    "print(ald.shape)"
   ]
  }
 ],
 "metadata": {
  "anaconda-cloud": {},
  "kernelspec": {
   "display_name": "Python [Root]",
   "language": "python",
   "name": "Python [Root]"
  },
  "language_info": {
   "codemirror_mode": {
    "name": "ipython",
    "version": 3
   },
   "file_extension": ".py",
   "mimetype": "text/x-python",
   "name": "python",
   "nbconvert_exporter": "python",
   "pygments_lexer": "ipython3",
   "version": "3.5.2"
  }
 },
 "nbformat": 4,
 "nbformat_minor": 0
}
