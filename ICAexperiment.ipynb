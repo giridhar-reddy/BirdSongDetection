{
 "cells": [
  {
   "cell_type": "code",
   "execution_count": 52,
   "metadata": {
    "collapsed": false
   },
   "outputs": [],
   "source": [
    "import numpy as np\n",
    "from sklearn.decomposition import FastICA\n",
    "import time\n",
    "import os\n",
    "import DataLoader,DomainManipulation\n",
    "import matplotlib.pyplot as plt\n",
    "from collections import Counter"
   ]
  },
  {
   "cell_type": "code",
   "execution_count": 56,
   "metadata": {
    "collapsed": false
   },
   "outputs": [
    {
     "data": {
      "text/plain": [
       "['aldfly', 'ameavo', 'amebit', 'amecro', 'amegfi']"
      ]
     },
     "execution_count": 56,
     "metadata": {},
     "output_type": "execute_result"
    }
   ],
   "source": [
    "dirs"
   ]
  },
  {
   "cell_type": "code",
   "execution_count": 3,
   "metadata": {
    "collapsed": false,
    "scrolled": true
   },
   "outputs": [
    {
     "name": "stdout",
     "output_type": "stream",
     "text": [
      "aldfly\n",
      "ameavo\n",
      "amebit\n",
      "amecro\n",
      "amegfi\n"
     ]
    }
   ],
   "source": [
    "traindir = 'data/train_audio'\n",
    "targetdir = 'data/birdseperation'\n",
    "\n",
    "dirs = os.listdir(traindir)\n",
    "dirs = dirs[:5]\n",
    "\n",
    "\n",
    "frqSamples = []\n",
    "birdCol = []\n",
    "icamodel = {}\n",
    "for birddir in dirs:\n",
    "    print(birddir)\n",
    "    files = os.listdir(os.path.join(traindir,birddir))\n",
    "\n",
    "    for fileName in files[:20]:\n",
    "        birdLoc = os.path.join(traindir,birddir,fileName)\n",
    "        y = DataLoader.readFromFile(birdLoc)\n",
    "        frqx, ft = DomainManipulation.frequency_spectrum(y, 22050, samples=220)\n",
    "        ft = ft.reshape((1,len(ft)))\n",
    "        frqSamples.append(ft)\n",
    "    birdCol.append(birddir)\n",
    "    \n",
    "frqSamples = np.concatenate(frqSamples, axis=0)"
   ]
  },
  {
   "cell_type": "code",
   "execution_count": 4,
   "metadata": {
    "collapsed": false
   },
   "outputs": [
    {
     "data": {
      "text/plain": [
       "(100, 220)"
      ]
     },
     "execution_count": 4,
     "metadata": {},
     "output_type": "execute_result"
    }
   ],
   "source": [
    "frqSamples.shape"
   ]
  },
  {
   "cell_type": "code",
   "execution_count": 48,
   "metadata": {
    "collapsed": false
   },
   "outputs": [],
   "source": [
    "frqSamplesTrain = frqSamples[:20,:]\n",
    "\n",
    "ica = FastICA(n_components=2, random_state=0)\n",
    "ica.fit(frqSamplesTrain)\n",
    "icamix = ica.mixing_\n",
    "\n",
    "plt.plot(icamix[:,0])\n",
    "plt.plot(icamix[:,1])\n",
    "plt.show()\n",
    "\n",
    "signalWeights = ica.transform(frqSamples)\n",
    "estimates = np.matmul(signalWeights,ica.mixing_.T) + ica.mean_\n",
    "\n",
    "rmse = np.mean((frqSamples - estimates)*(frqSamples - estimates),axis=1)\n",
    "frqSamplesMean = np.mean(frqSamples,axis=1)\n",
    "var = np.mean((frqSamples-frqSamplesMean[:,np.newaxis])*(frqSamples-frqSamplesMean[:,np.newaxis]),axis=1)\n",
    "\n",
    "plt.plot(np.log(rmse/var))\n",
    "plt.show()\n",
    "plt.clf()"
   ]
  },
  {
   "cell_type": "code",
   "execution_count": 10,
   "metadata": {
    "collapsed": false
   },
   "outputs": [
    {
     "name": "stdout",
     "output_type": "stream",
     "text": [
      "(100, 220)\n"
     ]
    }
   ],
   "source": [
    "print(estimates.shape)\n",
    "plt.plot(estimates[0,:].flatten())\n",
    "plt.plot(frqSamples[0,:].flatten())\n",
    "plt.show()"
   ]
  },
  {
   "cell_type": "code",
   "execution_count": 53,
   "metadata": {
    "collapsed": false
   },
   "outputs": [
    {
     "data": {
      "text/plain": [
       "{'': 39,\n",
       " 'brncre': 21,\n",
       " 'daejun': 6,\n",
       " 'gockin': 18,\n",
       " 'hawo': 1,\n",
       " 'mouchi': 15,\n",
       " 'mouqua': 42,\n",
       " 'rebnut': 8,\n",
       " 'rebsap': 2,\n",
       " 'squirrel': 58,\n",
       " 'stejay': 6,\n",
       " 'unk': 8,\n",
       " 'westan': 28,\n",
       " 'whhwoo': 5,\n",
       " 'yerwar': 2}"
      ]
     },
     "execution_count": 53,
     "metadata": {},
     "output_type": "execute_result"
    }
   ],
   "source": [
    "blahs = \"gockin mouchi westan gockin westan gockin westan mouchi mouchi gockin westan gockin rebnut westan gockin westan gockin mouchi westan gockin westan rebnut westan rebnut mouchi mouchi brncre westan mouchi westan westan  gockin mouchi westan gockin westan westan unk westan westan gockin westan westan westan westan westan westan    whhwoo whhwoo gockin mouchi whhwoo gockin mouchi whhwoo whhwoo  mouchi mouchi rebnut mouchi rebnut rebnut brncre brncre rebnut brncre rebnut brncre brncre brncre brncre brncre gockin brncre gockin mouchi gockin gockin mouchi gockin                                   yerwar yerwar brncre squirrel stejay mouqua squirrel stejay squirrel stejay brncre mouqua squirrel stejay mouqua rebsap squirrel rebsap squirrel brncre mouqua squirrel brncre mouqua squirrel brncre squirrel mouqua brncre mouqua squirrel mouqua squirrel stejay brncre mouqua squirrel unk mouqua squirrel hawo mouqua squirrel brncre mouqua squirrel brncre mouqua squirrel squirrel unk mouqua squirrel brncre mouqua squirrel squirrel mouqua squirrel mouqua squirrel brncre mouqua squirrel squirrel mouqua squirrel unk daejun squirrel unk daejun squirrel daejun squirrel unk daejun mouqua squirrel daejun squirrel daejun squirrel squirrel mouqua squirrel mouqua squirrel mouqua squirrel mouqua squirrel mouqua squirrel mouqua squirrel squirrel mouqua squirrel mouqua squirrel unk mouqua squirrel stejay mouqua squirrel mouqua squirrel mouqua squirrel mouqua squirrel squirrel mouqua squirrel squirrel mouqua squirrel unk squirrel mouqua squirrel westan mouqua squirrel mouqua squirrel westan mouqua squirrel mouqua squirrel westan mouqua westan mouqua squirrel squirrel westan\"\n",
    "counts = dict(Counter(blahs.split(\" \")))\n",
    "counts"
   ]
  },
  {
   "cell_type": "code",
   "execution_count": null,
   "metadata": {
    "collapsed": false
   },
   "outputs": [],
   "source": [
    "filedata = {}\n",
    "for bi,birddir in enumerate(dirs):\n",
    "    print(birddir)\n",
    "    files = os.listdir(os.path.join(traindir,birddir))\n",
    "\n",
    "    frqSamples = []\n",
    "    for fileName in files[:20]:\n",
    "        birdLoc = os.path.join(traindir,birddir,fileName)\n",
    "        y = DataLoader.readFromFile(birdLoc)\n",
    "        frqx, ft = DomainManipulation.frequency_spectrum(y, 22050, samples=220)\n",
    "        ft = ft.reshape((1,len(ft)))\n",
    "        frqSamples.append(ft)\n",
    "    \n",
    "    frqSamples = np.concatenate(frqSamples, axis=0)\n",
    "\n",
    "    for key,ica in icamodel.items():\n",
    "        icamix = ica.transform(frqSamples)\n",
    "        if key==birddir:\n",
    "            plt.scatter(icamix[:,0],icamix[:,1])\n",
    "        else:\n",
    "            plt.scatter(icamix[:,0],icamix[:,1],marker='x')\n",
    "    plt.show()\n",
    "    plt.clf()"
   ]
  },
  {
   "cell_type": "code",
   "execution_count": 45,
   "metadata": {
    "collapsed": false
   },
   "outputs": [],
   "source": [
    "icamix = ica.transform(frqSamplesTrain)\n",
    "if 0==0:\n",
    "    plt.scatter(icamix[:,0],icamix[:,1])\n",
    "else:\n",
    "    plt.scatter(icamix[:,0],icamix[:,1],marker='x')\n",
    "plt.show()\n",
    "plt.clf()"
   ]
  },
  {
   "cell_type": "code",
   "execution_count": null,
   "metadata": {
    "collapsed": false
   },
   "outputs": [],
   "source": [
    "ica_mix = ica.transform(frqSamples)\n",
    "plt.scatter(ica_mix[:,0],ica_mix[:,1])\n",
    "plt.show()"
   ]
  }
 ],
 "metadata": {
  "kernelspec": {
   "display_name": "Python [Root]",
   "language": "python",
   "name": "Python [Root]"
  },
  "language_info": {
   "codemirror_mode": {
    "name": "ipython",
    "version": 3
   },
   "file_extension": ".py",
   "mimetype": "text/x-python",
   "name": "python",
   "nbconvert_exporter": "python",
   "pygments_lexer": "ipython3",
   "version": "3.5.2"
  }
 },
 "nbformat": 4,
 "nbformat_minor": 0
}
