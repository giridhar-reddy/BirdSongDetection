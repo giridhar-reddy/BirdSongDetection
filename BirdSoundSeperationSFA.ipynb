{
 "cells": [
  {
   "cell_type": "code",
   "execution_count": 1,
   "metadata": {
    "collapsed": false
   },
   "outputs": [
    {
     "name": "stderr",
     "output_type": "stream",
     "text": [
      "C:\\Users\\karamvenkatsaigiridh\\AppData\\Local\\Continuum\\Anaconda3\\lib\\site-packages\\numba\\errors.py:105: UserWarning: Insufficiently recent colorama version found. Numba requires colorama >= 0.3.9\n",
      "  warnings.warn(msg)\n",
      "C:\\Users\\karamvenkatsaigiridh\\AppData\\Local\\Continuum\\Anaconda3\\lib\\site-packages\\sklearn\\ensemble\\weight_boosting.py:29: DeprecationWarning: numpy.core.umath_tests is an internal NumPy module and should not be imported. It will be removed in a future NumPy release.\n",
      "  from numpy.core.umath_tests import inner1d\n"
     ]
    }
   ],
   "source": [
    "import numpy as np\n",
    "import DataLoader,DomainManipulation\n",
    "import math\n",
    "import seaborn as sns\n",
    "import matplotlib.pyplot as plt\n",
    "import os\n",
    "import pickle\n",
    "from hmmlearn.hmm import GMMHMM\n",
    "import librosa\n",
    "import time\n",
    "import mdp\n",
    "from sklearn.decomposition import PCA"
   ]
  },
  {
   "cell_type": "code",
   "execution_count": 3,
   "metadata": {
    "collapsed": true
   },
   "outputs": [],
   "source": [
    "traindir = 'data/train_audio'\n",
    "targetdir = 'data/birdseperation-sfa'"
   ]
  },
  {
   "cell_type": "code",
   "execution_count": 2,
   "metadata": {
    "collapsed": false,
    "scrolled": true
   },
   "outputs": [
    {
     "name": "stdout",
     "output_type": "stream",
     "text": [
      "reading file: data/train_audio\\aldfly\\XC134874.mp3\n",
      "reading file: data/train_audio\\aldfly\\XC135454.mp3\n",
      "reading file: data/train_audio\\aldfly\\XC135455.mp3\n",
      "reading file: data/train_audio\\aldfly\\XC135456.mp3\n",
      "reading file: data/train_audio\\aldfly\\XC135457.mp3\n",
      "reading file: data/train_audio\\aldfly\\XC135459.mp3\n",
      "reading file: data/train_audio\\aldfly\\XC135460.mp3\n",
      "reading file: data/train_audio\\aldfly\\XC135883.mp3\n",
      "reading file: data/train_audio\\aldfly\\XC137570.mp3\n",
      "reading file: data/train_audio\\aldfly\\XC138639.mp3\n",
      "reading file: data/train_audio\\aldfly\\XC139577.mp3\n",
      "reading file: data/train_audio\\aldfly\\XC140298.mp3\n",
      "reading file: data/train_audio\\aldfly\\XC142065.mp3\n",
      "reading file: data/train_audio\\aldfly\\XC142066.mp3\n",
      "reading file: data/train_audio\\aldfly\\XC142067.mp3\n",
      "reading file: data/train_audio\\aldfly\\XC142068.mp3\n",
      "reading file: data/train_audio\\aldfly\\XC142329.mp3\n",
      "reading file: data/train_audio\\aldfly\\XC144672.mp3\n",
      "reading file: data/train_audio\\aldfly\\XC144674.mp3\n",
      "reading file: data/train_audio\\aldfly\\XC144675.mp3\n",
      "reading file: data/train_audio\\aldfly\\XC154310.mp3\n",
      "reading file: data/train_audio\\aldfly\\XC154449.mp3\n",
      "reading file: data/train_audio\\aldfly\\XC157462.mp3\n",
      "reading file: data/train_audio\\aldfly\\XC167789.mp3\n",
      "reading file: data/train_audio\\aldfly\\XC167791.mp3\n",
      "reading file: data/train_audio\\aldfly\\XC16967.mp3\n",
      "reading file: data/train_audio\\aldfly\\XC178480.mp3\n",
      "reading file: data/train_audio\\aldfly\\XC178481.mp3\n",
      "reading file: data/train_audio\\aldfly\\XC178485.mp3\n",
      "reading file: data/train_audio\\aldfly\\XC179417.mp3\n",
      "reading file: data/train_audio\\aldfly\\XC179600.mp3\n",
      "reading file: data/train_audio\\aldfly\\XC180091.mp3\n",
      "reading file: data/train_audio\\aldfly\\XC181484.mp3\n",
      "reading file: data/train_audio\\aldfly\\XC182735.mp3\n",
      "reading file: data/train_audio\\aldfly\\XC188377.mp3\n",
      "reading file: data/train_audio\\aldfly\\XC188432.mp3\n",
      "reading file: data/train_audio\\aldfly\\XC188434.mp3\n",
      "reading file: data/train_audio\\aldfly\\XC188813.mp3\n",
      "reading file: data/train_audio\\aldfly\\XC189042.mp3\n",
      "reading file: data/train_audio\\aldfly\\XC189043.mp3\n",
      "reading file: data/train_audio\\aldfly\\XC189044.mp3\n",
      "fail\n",
      "reading file: data/train_audio\\aldfly\\XC189045.mp3\n",
      "reading file: data/train_audio\\aldfly\\XC189262.mp3\n",
      "reading file: data/train_audio\\aldfly\\XC189263.mp3\n",
      "reading file: data/train_audio\\aldfly\\XC189264.mp3\n",
      "reading file: data/train_audio\\aldfly\\XC189265.mp3\n",
      "reading file: data/train_audio\\aldfly\\XC189266.mp3\n",
      "fail\n",
      "reading file: data/train_audio\\aldfly\\XC189267.mp3\n",
      "reading file: data/train_audio\\aldfly\\XC189268.mp3\n",
      "reading file: data/train_audio\\aldfly\\XC189269.mp3\n",
      "reading file: data/train_audio\\aldfly\\XC189589.mp3\n",
      "reading file: data/train_audio\\aldfly\\XC189590.mp3\n",
      "fail\n",
      "reading file: data/train_audio\\aldfly\\XC189592.mp3\n",
      "fail\n",
      "reading file: data/train_audio\\aldfly\\XC193116.mp3\n",
      "reading file: data/train_audio\\aldfly\\XC194087.mp3\n",
      "reading file: data/train_audio\\aldfly\\XC194088.mp3\n",
      "reading file: data/train_audio\\aldfly\\XC195541.mp3\n",
      "reading file: data/train_audio\\aldfly\\XC195542.mp3\n",
      "reading file: data/train_audio\\aldfly\\XC241646.mp3\n",
      "reading file: data/train_audio\\aldfly\\XC244458.mp3\n",
      "reading file: data/train_audio\\aldfly\\XC244459.mp3\n",
      "reading file: data/train_audio\\aldfly\\XC245645.mp3\n",
      "reading file: data/train_audio\\aldfly\\XC247799.mp3\n",
      "reading file: data/train_audio\\aldfly\\XC247801.mp3\n",
      "reading file: data/train_audio\\aldfly\\XC253455.mp3\n",
      "reading file: data/train_audio\\aldfly\\XC2628.mp3\n",
      "reading file: data/train_audio\\aldfly\\XC264715.mp3\n",
      "reading file: data/train_audio\\aldfly\\XC269063.mp3\n",
      "reading file: data/train_audio\\aldfly\\XC283162.mp3\n",
      "reading file: data/train_audio\\aldfly\\XC294255.mp3\n",
      "reading file: data/train_audio\\aldfly\\XC296725.mp3\n",
      "reading file: data/train_audio\\aldfly\\XC302253.mp3\n",
      "reading file: data/train_audio\\aldfly\\XC31060.mp3\n",
      "reading file: data/train_audio\\aldfly\\XC317112.mp3\n",
      "reading file: data/train_audio\\aldfly\\XC317903.mp3\n",
      "reading file: data/train_audio\\aldfly\\XC318444.mp3\n",
      "reading file: data/train_audio\\aldfly\\XC318899.mp3\n",
      "reading file: data/train_audio\\aldfly\\XC319017.mp3\n",
      "reading file: data/train_audio\\aldfly\\XC323488.mp3\n",
      "reading file: data/train_audio\\aldfly\\XC330449.mp3\n",
      "reading file: data/train_audio\\aldfly\\XC331564.mp3\n",
      "reading file: data/train_audio\\aldfly\\XC334685.mp3\n",
      "reading file: data/train_audio\\aldfly\\XC370826.mp3\n",
      "reading file: data/train_audio\\aldfly\\XC370881.mp3\n",
      "reading file: data/train_audio\\aldfly\\XC370932.mp3\n",
      "reading file: data/train_audio\\aldfly\\XC371412.mp3\n",
      "reading file: data/train_audio\\aldfly\\XC373885.mp3\n",
      "fail\n",
      "reading file: data/train_audio\\aldfly\\XC374636.mp3\n",
      "reading file: data/train_audio\\aldfly\\XC374638.mp3\n",
      "reading file: data/train_audio\\aldfly\\XC376468.mp3\n",
      "reading file: data/train_audio\\aldfly\\XC380033.mp3\n",
      "reading file: data/train_audio\\aldfly\\XC381871.mp3\n",
      "reading file: data/train_audio\\aldfly\\XC406251.mp3\n",
      "reading file: data/train_audio\\aldfly\\XC414551.mp3\n",
      "reading file: data/train_audio\\aldfly\\XC418144.mp3\n",
      "reading file: data/train_audio\\aldfly\\XC420402.mp3\n",
      "reading file: data/train_audio\\aldfly\\XC420909.mp3\n",
      "reading file: data/train_audio\\aldfly\\XC479502.mp3\n",
      "reading file: data/train_audio\\aldfly\\XC479504.mp3\n",
      "reading file: data/train_audio\\aldfly\\XC78890.mp3\n"
     ]
    }
   ],
   "source": [
    "start_time = time.time()\n",
    "\n",
    "dirs = os.listdir(traindir)\n",
    "dirs = dirs[:1]\n",
    "\n",
    "# for birddir in dirs:\n",
    "birddir = dirs[0]\n",
    "files = os.listdir(os.path.join(traindir,birddir))\n",
    "\n",
    "sfa_components = []\n",
    "sfa_file_name_order = []\n",
    "hmm_sfa_corr = []\n",
    "for fileName in files:\n",
    "    birdLoc = os.path.join(traindir,birddir,fileName)\n",
    "    targetLoc = os.path.join(targetdir,birddir,fileName)\n",
    "    os.makedirs(targetLoc, exist_ok=True)\n",
    "\n",
    "    try:\n",
    "        y = DataLoader.readFromFile(birdLoc)\n",
    "        print(\"reading file: {}\".format(birdLoc))\n",
    "        mfcc_samples = DomainManipulation.mfcc(y,50).T\n",
    "        \n",
    "        sfa = mdp.nodes.SFANode(output_dim=1)\n",
    "        sfa.train(mfcc_samples)\n",
    "        sfa.stop_training()\n",
    "        sfa_component = sfa.sf.T\n",
    "        sfa_samples = sfa(mfcc_samples)\n",
    "\n",
    "        sfa_file_name_order.append(fileName)\n",
    "        sfa_components.append(sfa_component.flatten())\n",
    "        \n",
    "        hmmModel = GMMHMM(n_components=2, n_mix=2)\n",
    "        ns, blah = sfa_samples.shape\n",
    "#         hmmModel.fit(sfa_samples[:,0].reshape((ns,1)))\n",
    "#         logP, labels = hmmModel.decode(sfa_samples[:,0].reshape((ns,1)))\n",
    "        hmmModel.fit(sfa_samples)\n",
    "        logP, labels = hmmModel.decode(sfa_samples)\n",
    "        labels = labels.flatten()\n",
    "        \n",
    "        hmm_sfa_corr.append(np.corrcoef(labels, sfa_samples.flatten())[0,1])\n",
    "    except:\n",
    "        print(\"fail\")\n",
    "        continue\n",
    "\n",
    "    os.makedirs(os.path.join(targetLoc,\"0\"), exist_ok=True)\n",
    "    os.makedirs(os.path.join(targetLoc,\"1\"), exist_ok=True)\n",
    "    DataLoader.splitByLabels(y, labels, targetLoc)\n",
    "\n",
    "    plt.subplot(211)\n",
    "    plt.plot(range(sfa_samples.shape[0]), sfa_samples[:,0], 'b')\n",
    "    plt.plot(range(sfa_samples.shape[0]), labels, 'r')\n",
    "\n",
    "    plt.subplot(212)\n",
    "    plt.plot(range(sfa_samples.shape[0]), DomainManipulation.rollingMean(y, 0, samples=sfa_samples.shape[0]), 'r')\n",
    "\n",
    "    plt.savefig(targetLoc+\".png\")\n",
    "    plt.clf()\n",
    "sfa_components = np.array(sfa_components)"
   ]
  },
  {
   "cell_type": "code",
   "execution_count": 3,
   "metadata": {
    "collapsed": false,
    "scrolled": true
   },
   "outputs": [
    {
     "name": "stdout",
     "output_type": "stream",
     "text": [
      "(95, 50)\n",
      "['XC134874.mp3', 'XC135454.mp3', 'XC135455.mp3', 'XC135456.mp3', 'XC135457.mp3', 'XC135459.mp3', 'XC135460.mp3', 'XC135883.mp3', 'XC137570.mp3', 'XC138639.mp3', 'XC139577.mp3', 'XC140298.mp3', 'XC142065.mp3', 'XC142066.mp3', 'XC142067.mp3', 'XC142068.mp3', 'XC142329.mp3', 'XC144672.mp3', 'XC144674.mp3', 'XC144675.mp3', 'XC154310.mp3', 'XC154449.mp3', 'XC157462.mp3', 'XC167789.mp3', 'XC167791.mp3', 'XC16967.mp3', 'XC178480.mp3', 'XC178481.mp3', 'XC178485.mp3', 'XC179417.mp3', 'XC179600.mp3', 'XC180091.mp3', 'XC181484.mp3', 'XC182735.mp3', 'XC188377.mp3', 'XC188432.mp3', 'XC188434.mp3', 'XC188813.mp3', 'XC189042.mp3', 'XC189043.mp3', 'XC189045.mp3', 'XC189262.mp3', 'XC189263.mp3', 'XC189264.mp3', 'XC189265.mp3', 'XC189267.mp3', 'XC189268.mp3', 'XC189269.mp3', 'XC189589.mp3', 'XC193116.mp3', 'XC194087.mp3', 'XC194088.mp3', 'XC195541.mp3', 'XC195542.mp3', 'XC241646.mp3', 'XC244458.mp3', 'XC244459.mp3', 'XC245645.mp3', 'XC247799.mp3', 'XC247801.mp3', 'XC253455.mp3', 'XC2628.mp3', 'XC264715.mp3', 'XC269063.mp3', 'XC283162.mp3', 'XC294255.mp3', 'XC296725.mp3', 'XC302253.mp3', 'XC31060.mp3', 'XC317112.mp3', 'XC317903.mp3', 'XC318444.mp3', 'XC318899.mp3', 'XC319017.mp3', 'XC323488.mp3', 'XC330449.mp3', 'XC331564.mp3', 'XC334685.mp3', 'XC370826.mp3', 'XC370881.mp3', 'XC370932.mp3', 'XC371412.mp3', 'XC374636.mp3', 'XC374638.mp3', 'XC376468.mp3', 'XC380033.mp3', 'XC381871.mp3', 'XC406251.mp3', 'XC414551.mp3', 'XC418144.mp3', 'XC420402.mp3', 'XC420909.mp3', 'XC479502.mp3', 'XC479504.mp3', 'XC78890.mp3']\n",
      "[-0.789438147168917, -0.7862802952192951, 0.8582586428292409, -0.7739045867271976, 0.8142772935069217, 0.8129674780466092, 0.8521841721839767, 0.7128086035295759, 0.7709131591517316, 0.7876010820260451, 0.7268324786287913, 0.7739318284735851, -0.8246588509555148, 0.7699789485407008, -0.7307228925338515, -0.6682042567539624, 0.9134546047636805, -0.5939306813161119, 0.8136752852716174, 0.6771573849435639, 0.825327191539088, 0.8897603172663532, 0.8158717687804916, -0.8388358222473686, -0.7727717811122238, -0.8582957785972601, -0.8436833744978484, -0.7931514269818684, -0.785874853588326, 0.8040741364199436, -0.685673109534185, -0.807851143458631, 0.8804845763482131, -0.2217034537807688, 0.6784721712635602, 0.5379049645914324, -0.7988373202096343, -0.6289551761425488, -0.811025913488207, 0.8529912256796492, -0.8364377935892613, 0.7052094157751205, 0.8883401465619042, -0.7455542378916492, -0.8173213146617837, 0.881827647994297, 0.9279405267204678, 0.6788065801497728, 0.7982081783730381, 0.7854311989609165, 0.7997983323260683, 0.7850596010949218, 0.8107896473482903, 0.8640307011176479, -0.9145292957933834, 0.7133232906973853, 0.8726746832897293, 0.8302438468059541, 0.8066106922485704, 0.8981496332705037, -0.5750998666569728, -0.7546611452288057, -0.7403063377128647, -0.916237183145532, 0.865242071967494, -0.6549165225531282, -0.7686803235993666, -0.7608880871255129, 0.9047897979693418, 0.8110480876221133, -0.8557717597706775, 0.8108440283972832, -0.7995967334639456, -0.8490463455995775, 0.8691622680775926, 0.38776096249042497, 0.7230778290574906, -0.8038859915275106, 0.7814411024431215, -0.8058957549242302, 0.9080758280117538, 0.9218337178703697, -0.8598874773114313, 0.8227616546620716, 0.9150193587210184, 0.9036486917109942, -0.7417976493344332, 0.6451252853891397, 0.7326859248548447, -0.7450857193059188, 0.8554323071717697, 0.7923126871205818, -0.774066133936423, 0.8400563359590627, 0.8911007532809128]\n"
     ]
    }
   ],
   "source": [
    "print(sfa_components.shape)\n",
    "print((sfa_file_name_order))\n",
    "print((hmm_sfa_corr))"
   ]
  },
  {
   "cell_type": "code",
   "execution_count": 4,
   "metadata": {
    "collapsed": false,
    "scrolled": true
   },
   "outputs": [
    {
     "ename": "NameError",
     "evalue": "name 'sfa_components' is not defined",
     "output_type": "error",
     "traceback": [
      "\u001b[1;31m---------------------------------------------------------------------------\u001b[0m",
      "\u001b[1;31mNameError\u001b[0m                                 Traceback (most recent call last)",
      "\u001b[1;32m<ipython-input-4-c975384aa7d6>\u001b[0m in \u001b[0;36m<module>\u001b[1;34m()\u001b[0m\n\u001b[0;32m      7\u001b[0m \u001b[1;33m\u001b[0m\u001b[0m\n\u001b[0;32m      8\u001b[0m \u001b[0mpca\u001b[0m \u001b[1;33m=\u001b[0m \u001b[0mPCA\u001b[0m\u001b[1;33m(\u001b[0m\u001b[0mn_components\u001b[0m\u001b[1;33m=\u001b[0m\u001b[1;36m1\u001b[0m\u001b[1;33m)\u001b[0m\u001b[1;33m\u001b[0m\u001b[0m\n\u001b[1;32m----> 9\u001b[1;33m \u001b[0msfa_pca\u001b[0m \u001b[1;33m=\u001b[0m \u001b[0mpca\u001b[0m\u001b[1;33m.\u001b[0m\u001b[0mfit_transform\u001b[0m\u001b[1;33m(\u001b[0m\u001b[0msfa_components\u001b[0m\u001b[1;33m)\u001b[0m\u001b[1;33m\u001b[0m\u001b[0m\n\u001b[0m\u001b[0;32m     10\u001b[0m \u001b[1;33m\u001b[0m\u001b[0m\n\u001b[0;32m     11\u001b[0m \u001b[0msfa_pca\u001b[0m\u001b[1;33m.\u001b[0m\u001b[0mflatten\u001b[0m\u001b[1;33m(\u001b[0m\u001b[1;33m)\u001b[0m\u001b[1;33m*\u001b[0m\u001b[0mhmm_sfa_corr\u001b[0m\u001b[1;33m\u001b[0m\u001b[0m\n",
      "\u001b[1;31mNameError\u001b[0m: name 'sfa_components' is not defined"
     ]
    }
   ],
   "source": [
    "import DataLoader,DomainManipulation\n",
    "\n",
    "segregateLoc = \"data/audiosegregation-0.8\"\n",
    "targetdir = 'data/birdseperation-sfa-5-birds'\n",
    "\n",
    "bird_names = os.listdir(traindir)\n",
    "\n",
    "pca = PCA(n_components=1)\n",
    "sfa_pca = pca.fit_transform(sfa_components)\n",
    "\n",
    "sfa_pca.flatten()*hmm_sfa_corr\n",
    "sfa_file_name_order\n",
    "\n",
    "for name in bird_names[:5]:\n",
    "    writepath = os.path.join(segregateLoc, name)\n",
    "    readpath = os.path.join(targetdir, name)\n",
    "    os.makedirs(os.path.join(writepath,\"0\"), exist_ok=True)\n",
    "    os.makedirs(os.path.join(writepath,\"1\"), exist_ok=True)\n",
    "    \n",
    "    for filedir, sfa_pca_sign, hmm_sfa_sign in zip(sfa_file_name_order, sfa_pca, hmm_sfa_corr):\n",
    "        full_file_dir = os.path.join(readpath, filedir)\n",
    "        print(filedir, full_file_dir)\n",
    "        \n",
    "        if np.abs(hmm_sfa_sign)>0.8:\n",
    "            if sfa_pca_sign*hmm_sfa_sign>0:\n",
    "                DataLoader.copyAllFilesDirtoDir(os.path.join(full_file_dir,\"0\"),os.path.join(writepath,\"0\"))\n",
    "                DataLoader.copyAllFilesDirtoDir(os.path.join(full_file_dir,\"1\"),os.path.join(writepath,\"1\"))\n",
    "            else:\n",
    "                DataLoader.copyAllFilesDirtoDir(os.path.join(full_file_dir,\"0\"),os.path.join(writepath,\"1\"))\n",
    "                DataLoader.copyAllFilesDirtoDir(os.path.join(full_file_dir,\"1\"),os.path.join(writepath,\"0\"))\n",
    "        \n",
    "    DataLoader.mergeAudiosTo(os.path.join(writepath,\"0\"),writepath+\"/0.wav\")\n",
    "    DataLoader.mergeAudiosTo(os.path.join(writepath,\"1\"),writepath+\"/1.wav\")"
   ]
  }
 ],
 "metadata": {
  "anaconda-cloud": {},
  "kernelspec": {
   "display_name": "Python [Root]",
   "language": "python",
   "name": "Python [Root]"
  },
  "language_info": {
   "codemirror_mode": {
    "name": "ipython",
    "version": 3
   },
   "file_extension": ".py",
   "mimetype": "text/x-python",
   "name": "python",
   "nbconvert_exporter": "python",
   "pygments_lexer": "ipython3",
   "version": "3.5.2"
  }
 },
 "nbformat": 4,
 "nbformat_minor": 0
}
