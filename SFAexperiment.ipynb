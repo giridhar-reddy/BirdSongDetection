{
 "cells": [
  {
   "cell_type": "code",
   "execution_count": 1,
   "metadata": {
    "collapsed": false
   },
   "outputs": [
    {
     "name": "stderr",
     "output_type": "stream",
     "text": [
      "C:\\Users\\karamvenkatsaigiridh\\AppData\\Local\\Continuum\\Anaconda3\\lib\\site-packages\\numba\\errors.py:105: UserWarning: Insufficiently recent colorama version found. Numba requires colorama >= 0.3.9\n",
      "  warnings.warn(msg)\n",
      "C:\\Users\\karamvenkatsaigiridh\\AppData\\Local\\Continuum\\Anaconda3\\lib\\site-packages\\sklearn\\ensemble\\weight_boosting.py:29: DeprecationWarning: numpy.core.umath_tests is an internal NumPy module and should not be imported. It will be removed in a future NumPy release.\n",
      "  from numpy.core.umath_tests import inner1d\n"
     ]
    }
   ],
   "source": [
    "import numpy as np\n",
    "import DataLoader,DomainManipulation\n",
    "import math\n",
    "import seaborn as sns\n",
    "import matplotlib.pyplot as plt\n",
    "import os\n",
    "import pickle\n",
    "from hmmlearn.hmm import GMMHMM\n",
    "import librosa\n",
    "import time\n",
    "import mdp\n",
    "from sklearn.decomposition import PCA"
   ]
  },
  {
   "cell_type": "code",
   "execution_count": 2,
   "metadata": {
    "collapsed": false,
    "scrolled": true
   },
   "outputs": [
    {
     "name": "stdout",
     "output_type": "stream",
     "text": [
      "reading file: data/train_audio\\aldfly\\XC134874.mp3\n",
      "reading file: data/train_audio\\aldfly\\XC135454.mp3\n",
      "reading file: data/train_audio\\aldfly\\XC135455.mp3\n",
      "reading file: data/train_audio\\aldfly\\XC135456.mp3\n",
      "reading file: data/train_audio\\aldfly\\XC135457.mp3\n",
      "reading file: data/train_audio\\aldfly\\XC135459.mp3\n",
      "reading file: data/train_audio\\aldfly\\XC135460.mp3\n",
      "reading file: data/train_audio\\aldfly\\XC135883.mp3\n",
      "reading file: data/train_audio\\aldfly\\XC137570.mp3\n",
      "reading file: data/train_audio\\aldfly\\XC138639.mp3\n",
      "reading file: data/train_audio\\aldfly\\XC139577.mp3\n",
      "reading file: data/train_audio\\aldfly\\XC140298.mp3\n",
      "reading file: data/train_audio\\aldfly\\XC142065.mp3\n",
      "reading file: data/train_audio\\aldfly\\XC142066.mp3\n",
      "reading file: data/train_audio\\aldfly\\XC142067.mp3\n",
      "reading file: data/train_audio\\aldfly\\XC142068.mp3\n",
      "reading file: data/train_audio\\aldfly\\XC142329.mp3\n",
      "reading file: data/train_audio\\aldfly\\XC144672.mp3\n",
      "reading file: data/train_audio\\aldfly\\XC144674.mp3\n",
      "reading file: data/train_audio\\aldfly\\XC144675.mp3\n",
      "reading file: data/train_audio\\aldfly\\XC154310.mp3\n",
      "reading file: data/train_audio\\aldfly\\XC154449.mp3\n",
      "reading file: data/train_audio\\aldfly\\XC157462.mp3\n",
      "reading file: data/train_audio\\aldfly\\XC167789.mp3\n",
      "reading file: data/train_audio\\aldfly\\XC167791.mp3\n",
      "reading file: data/train_audio\\aldfly\\XC16967.mp3\n",
      "reading file: data/train_audio\\aldfly\\XC178480.mp3\n",
      "reading file: data/train_audio\\aldfly\\XC178481.mp3\n",
      "reading file: data/train_audio\\aldfly\\XC178485.mp3\n",
      "reading file: data/train_audio\\aldfly\\XC179417.mp3\n",
      "reading file: data/train_audio\\aldfly\\XC179600.mp3\n",
      "reading file: data/train_audio\\aldfly\\XC180091.mp3\n",
      "reading file: data/train_audio\\aldfly\\XC181484.mp3\n",
      "reading file: data/train_audio\\aldfly\\XC182735.mp3\n",
      "reading file: data/train_audio\\aldfly\\XC188377.mp3\n",
      "reading file: data/train_audio\\aldfly\\XC188432.mp3\n",
      "reading file: data/train_audio\\aldfly\\XC188434.mp3\n",
      "reading file: data/train_audio\\aldfly\\XC188813.mp3\n",
      "reading file: data/train_audio\\aldfly\\XC189042.mp3\n",
      "reading file: data/train_audio\\aldfly\\XC189043.mp3\n",
      "reading file: data/train_audio\\aldfly\\XC189044.mp3\n",
      "fail\n",
      "reading file: data/train_audio\\aldfly\\XC189045.mp3\n",
      "reading file: data/train_audio\\aldfly\\XC189262.mp3\n",
      "reading file: data/train_audio\\aldfly\\XC189263.mp3\n",
      "reading file: data/train_audio\\aldfly\\XC189264.mp3\n",
      "reading file: data/train_audio\\aldfly\\XC189265.mp3\n",
      "reading file: data/train_audio\\aldfly\\XC189266.mp3\n",
      "fail\n",
      "reading file: data/train_audio\\aldfly\\XC189267.mp3\n",
      "reading file: data/train_audio\\aldfly\\XC189268.mp3\n",
      "reading file: data/train_audio\\aldfly\\XC189269.mp3\n",
      "reading file: data/train_audio\\aldfly\\XC189589.mp3\n",
      "reading file: data/train_audio\\aldfly\\XC189590.mp3\n",
      "fail\n",
      "reading file: data/train_audio\\aldfly\\XC189592.mp3\n",
      "fail\n",
      "reading file: data/train_audio\\aldfly\\XC193116.mp3\n",
      "reading file: data/train_audio\\aldfly\\XC194087.mp3\n",
      "reading file: data/train_audio\\aldfly\\XC194088.mp3\n",
      "reading file: data/train_audio\\aldfly\\XC195541.mp3\n",
      "reading file: data/train_audio\\aldfly\\XC195542.mp3\n",
      "reading file: data/train_audio\\aldfly\\XC241646.mp3\n",
      "reading file: data/train_audio\\aldfly\\XC244458.mp3\n",
      "reading file: data/train_audio\\aldfly\\XC244459.mp3\n",
      "reading file: data/train_audio\\aldfly\\XC245645.mp3\n",
      "reading file: data/train_audio\\aldfly\\XC247799.mp3\n",
      "reading file: data/train_audio\\aldfly\\XC247801.mp3\n",
      "reading file: data/train_audio\\aldfly\\XC253455.mp3\n",
      "reading file: data/train_audio\\aldfly\\XC2628.mp3\n",
      "reading file: data/train_audio\\aldfly\\XC264715.mp3\n",
      "reading file: data/train_audio\\aldfly\\XC269063.mp3\n",
      "reading file: data/train_audio\\aldfly\\XC283162.mp3\n",
      "reading file: data/train_audio\\aldfly\\XC294255.mp3\n",
      "reading file: data/train_audio\\aldfly\\XC296725.mp3\n",
      "reading file: data/train_audio\\aldfly\\XC302253.mp3\n",
      "reading file: data/train_audio\\aldfly\\XC31060.mp3\n",
      "reading file: data/train_audio\\aldfly\\XC317112.mp3\n",
      "reading file: data/train_audio\\aldfly\\XC317903.mp3\n",
      "reading file: data/train_audio\\aldfly\\XC318444.mp3\n",
      "reading file: data/train_audio\\aldfly\\XC318899.mp3\n",
      "reading file: data/train_audio\\aldfly\\XC319017.mp3\n",
      "reading file: data/train_audio\\aldfly\\XC323488.mp3\n",
      "reading file: data/train_audio\\aldfly\\XC330449.mp3\n",
      "reading file: data/train_audio\\aldfly\\XC331564.mp3\n",
      "reading file: data/train_audio\\aldfly\\XC334685.mp3\n",
      "reading file: data/train_audio\\aldfly\\XC370826.mp3\n",
      "reading file: data/train_audio\\aldfly\\XC370881.mp3\n",
      "reading file: data/train_audio\\aldfly\\XC370932.mp3\n",
      "reading file: data/train_audio\\aldfly\\XC371412.mp3\n",
      "reading file: data/train_audio\\aldfly\\XC373885.mp3\n",
      "fail\n",
      "reading file: data/train_audio\\aldfly\\XC374636.mp3\n",
      "reading file: data/train_audio\\aldfly\\XC374638.mp3\n",
      "reading file: data/train_audio\\aldfly\\XC376468.mp3\n",
      "reading file: data/train_audio\\aldfly\\XC380033.mp3\n",
      "reading file: data/train_audio\\aldfly\\XC381871.mp3\n",
      "reading file: data/train_audio\\aldfly\\XC406251.mp3\n",
      "reading file: data/train_audio\\aldfly\\XC414551.mp3\n",
      "reading file: data/train_audio\\aldfly\\XC418144.mp3\n",
      "reading file: data/train_audio\\aldfly\\XC420402.mp3\n",
      "reading file: data/train_audio\\aldfly\\XC420909.mp3\n",
      "reading file: data/train_audio\\aldfly\\XC479502.mp3\n",
      "reading file: data/train_audio\\aldfly\\XC479504.mp3\n",
      "reading file: data/train_audio\\aldfly\\XC78890.mp3\n"
     ]
    }
   ],
   "source": [
    "start_time = time.time()\n",
    "\n",
    "traindir = 'data/train_audio'\n",
    "targetdir = 'data/birdseperation-sfa-composit'\n",
    "\n",
    "dirs = os.listdir(traindir)\n",
    "dirs = dirs[:1]\n",
    "\n",
    "# for birddir in dirs:\n",
    "birddir = dirs[0]\n",
    "files = os.listdir(os.path.join(traindir,birddir))\n",
    "\n",
    "sfa_components = []\n",
    "sfa_file_name_order = []\n",
    "hmm_sfa_corr = []\n",
    "mfccMap = {}\n",
    "for fileName in files:\n",
    "    birdLoc = os.path.join(traindir,birddir,fileName)\n",
    "    targetLoc = os.path.join(targetdir,birddir,fileName)\n",
    "    os.makedirs(targetLoc, exist_ok=True)\n",
    "\n",
    "    try:\n",
    "        y = DataLoader.readFromFile(birdLoc)\n",
    "        print(\"reading file: {}\".format(birdLoc))\n",
    "        mfcc_samples = DomainManipulation.mfcc(y,50).T\n",
    "        mfccMap[fileName] = mfcc_samples\n",
    "        \n",
    "        sfa = mdp.nodes.SFANode(output_dim=1)\n",
    "        sfa.train(mfcc_samples)\n",
    "        sfa.stop_training()\n",
    "        sfa_component = sfa.sf.T\n",
    "        sfa_samples = sfa(mfcc_samples)\n",
    "\n",
    "        sfa_file_name_order.append(fileName)\n",
    "        sfa_components.append(sfa_component.flatten())\n",
    "    except:\n",
    "        print(\"fail\")\n",
    "        continue\n",
    "\n",
    "sfa_components = np.array(sfa_components)\n",
    "pca = PCA(n_components=1)\n",
    "sfa_pca = pca.fit_transform(sfa_components)\n",
    "sfa_composit = pca.components_[0,:]\n",
    "sfa_composit = sfa_composit.reshape((len(sfa_composit),1))"
   ]
  },
  {
   "cell_type": "code",
   "execution_count": 3,
   "metadata": {
    "collapsed": false,
    "scrolled": true
   },
   "outputs": [
    {
     "name": "stderr",
     "output_type": "stream",
     "text": [
      "C:\\Users\\karamvenkatsaigiridh\\AppData\\Local\\Continuum\\Anaconda3\\lib\\site-packages\\hmmlearn\\utils.py:55: RuntimeWarning: invalid value encountered in subtract\n",
      "  a -= a_lse\n"
     ]
    },
    {
     "name": "stdout",
     "output_type": "stream",
     "text": [
      "fail\n",
      "fail\n",
      "fail\n",
      "fail\n",
      "fail\n",
      "fail\n",
      "fail\n"
     ]
    }
   ],
   "source": [
    "for fileName in files:\n",
    "    targetLoc = os.path.join(targetdir,birddir,fileName)\n",
    "\n",
    "    try:\n",
    "        mfcc_samples = mfccMap[fileName]\n",
    "        \n",
    "        sfa_samples = np.matmul(mfcc_samples,sfa_composit)\n",
    "          \n",
    "        hmmModel = GMMHMM(n_components=2, n_mix=2)\n",
    "        ns, blah = sfa_samples.shape\n",
    "        hmmModel.fit(sfa_samples)\n",
    "        logP, labels = hmmModel.decode(sfa_samples)\n",
    "        labels = labels.flatten()\n",
    "    except:\n",
    "        print(\"fail\")\n",
    "        continue\n",
    "\n",
    "    os.makedirs(os.path.join(targetLoc,\"0\"), exist_ok=True)\n",
    "    os.makedirs(os.path.join(targetLoc,\"1\"), exist_ok=True)\n",
    "    \n",
    "    if np.corrcoef(labels, sfa_samples.flatten())[0,1]>0:\n",
    "        DataLoader.splitByLabels(y, labels, targetLoc)\n",
    "    else:\n",
    "        DataLoader.splitByLabels(y, 1-labels, targetLoc)\n",
    "\n",
    "    plt.subplot(211)\n",
    "    plt.plot(range(sfa_samples.shape[0]), (sfa_samples[:,0] - np.mean(sfa_samples[:,0]))/(np.std(sfa_samples[:,0])), 'b')\n",
    "    plt.plot(range(sfa_samples.shape[0]), labels, 'r')\n",
    "\n",
    "    plt.subplot(212)\n",
    "    plt.plot(range(sfa_samples.shape[0]), DomainManipulation.rollingMean(y, 0, samples=sfa_samples.shape[0]), 'r')\n",
    "\n",
    "    plt.savefig(targetLoc+\".png\")\n",
    "    plt.clf()\n",
    "    \n",
    "sfa_components = np.array(sfa_components)"
   ]
  },
  {
   "cell_type": "code",
   "execution_count": 4,
   "metadata": {
    "collapsed": false
   },
   "outputs": [
    {
     "data": {
      "text/plain": [
       "array([1.19721076e+09])"
      ]
     },
     "execution_count": 4,
     "metadata": {},
     "output_type": "execute_result"
    }
   ],
   "source": [
    "pca.explained_variance_"
   ]
  }
 ],
 "metadata": {
  "kernelspec": {
   "display_name": "Python [Root]",
   "language": "python",
   "name": "Python [Root]"
  },
  "language_info": {
   "codemirror_mode": {
    "name": "ipython",
    "version": 3
   },
   "file_extension": ".py",
   "mimetype": "text/x-python",
   "name": "python",
   "nbconvert_exporter": "python",
   "pygments_lexer": "ipython3",
   "version": "3.5.2"
  }
 },
 "nbformat": 4,
 "nbformat_minor": 0
}
