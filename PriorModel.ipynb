{
 "cells": [
  {
   "cell_type": "code",
   "execution_count": 1,
   "metadata": {
    "collapsed": false
   },
   "outputs": [
    {
     "name": "stderr",
     "output_type": "stream",
     "text": [
      "C:\\Users\\karamvenkatsaigiridh\\AppData\\Local\\Continuum\\Anaconda3\\lib\\site-packages\\numba\\errors.py:105: UserWarning: Insufficiently recent colorama version found. Numba requires colorama >= 0.3.9\n",
      "  warnings.warn(msg)\n",
      "C:\\Users\\karamvenkatsaigiridh\\AppData\\Local\\Continuum\\Anaconda3\\lib\\site-packages\\sklearn\\ensemble\\weight_boosting.py:29: DeprecationWarning: numpy.core.umath_tests is an internal NumPy module and should not be imported. It will be removed in a future NumPy release.\n",
      "  from numpy.core.umath_tests import inner1d\n"
     ]
    }
   ],
   "source": [
    "from sklearn.decomposition import PCA\n",
    "from sklearn.mixture import GMM\n",
    "import numpy as np\n",
    "import matplotlib.pyplot as plt\n",
    "import matplotlib.cm as cm\n",
    "import os\n",
    "import pickle\n",
    "import gc\n",
    "import math\n",
    "import DomainManipulation, DataLoader"
   ]
  },
  {
   "cell_type": "code",
   "execution_count": 3,
   "metadata": {
    "collapsed": false
   },
   "outputs": [
    {
     "name": "stdout",
     "output_type": "stream",
     "text": [
      "reading file: data/train_audio/aldfly/XC135456.mp3\n",
      "reading file: data/train_audio/aldfly/XC135457.mp3\n"
     ]
    }
   ],
   "source": [
    "res = DataLoader.readFromDirectory(r\"data/train_audio/aldfly\", filecount=2)"
   ]
  },
  {
   "cell_type": "code",
   "execution_count": null,
   "metadata": {
    "collapsed": true
   },
   "outputs": [],
   "source": [
    "def trainGMM(samples, n_components = 5):\n",
    "    model = GMM(n_components=n_components, covariance_type='full')\n",
    "    model.fit(samples)\n",
    "    return model\n",
    "\n",
    "def multiTo2DVis(data, plot=True):\n",
    "    pca = PCA(n_components=3)\n",
    "    pca.fit(data)\n",
    "\n",
    "    print(\"PCA explained variane: {}\".format(pca.explained_variance_ratio_))\n",
    "\n",
    "    data_reduced = pca.transform(data)\n",
    "\n",
    "    ax, ay = data_reduced[:,0].flatten(), data_reduced[:,1].flatten()\n",
    "    import matplotlib.pyplot as plt\n",
    "    \n",
    "    \n",
    "    return plt.scatter(ax, ay, alpha=0.003, c = [1,1,0,1]) if plot else ax,ay "
   ]
  },
  {
   "cell_type": "code",
   "execution_count": null,
   "metadata": {
    "collapsed": false
   },
   "outputs": [],
   "source": [
    "mfcc_directory = 'data/mfcc_50/'\n",
    "picklefiles = os.listdir(mfcc_directory)"
   ]
  },
  {
   "cell_type": "code",
   "execution_count": null,
   "metadata": {
    "collapsed": false
   },
   "outputs": [],
   "source": [
    "birdPriorModel = {}\n",
    "\n",
    "for i,picklefile in enumerate(picklefiles[:10]):\n",
    "    print(\"learning {}: {}\".format(i,picklefile))\n",
    "    \n",
    "    mfcc_samples_path = os.path.join(mfcc_directory,picklefile)\n",
    "    mfcc_samples = pickle.load(open(mfcc_samples_path, 'rb')).T\n",
    "    pca = PCA(n_components=3)\n",
    "    mfcc_samples = pca.fit_transform(mfcc_samples)\n",
    "    \n",
    "    norm2 = np.linalg.norm(mfcc_samples, axis=1)\n",
    "    mfcc_samples = mfcc_samples / norm2[:, np.newaxis]\n",
    "    \n",
    "    np.random.shuffle(mfcc_samples)\n",
    "    model = trainGMM(mfcc_samples)\n",
    "    birdPriorModel[picklefile.split(\".\")[0]] = model\n",
    "    \n",
    "    del(mfcc_samples)\n",
    "    gc.collect()\n",
    "\n",
    "pickle.dump(birdPriorModel,open(\"data/birdPriorModel.pickle\",'wb'))"
   ]
  },
  {
   "cell_type": "code",
   "execution_count": null,
   "metadata": {
    "collapsed": false
   },
   "outputs": [],
   "source": [
    "# gather all means\n",
    "allMeans = None\n",
    "allVars = None\n",
    "birdValues = []\n",
    "check = True\n",
    "for bird,gmmModel in birdPriorModel.items():\n",
    "    allMeans = gmmModel.means_ if check else np.concatenate([allMeans,gmmModel.means_])\n",
    "    \n",
    "    var = gmmModel.covars_\n",
    "#     vardets = np.mean(var,axis=1)\n",
    "    vardets = np.array( [np.linalg.det(var[i,:,:]) for i in range(var.shape[0])] )\n",
    "    allVars = vardets if check else np.concatenate([allVars,vardets])\n",
    "    \n",
    "    birdValues = birdValues + [bird]*var.shape[0]\n",
    "    \n",
    "    check = False\n",
    "\n",
    "# assign colors to each bird\n",
    "# colors = cm.rainbow(np.linspace(0, 1, len(ys)))\n",
    "birdSet = list(set(birdValues))\n",
    "birdCodes = [birdSet.index(eachBird)/len(birdSet) for eachBird in birdValues]\n",
    "colors = cm.rainbow(np.array(birdCodes))\n",
    "\n",
    "\n",
    "# visualize bird gmm means\n",
    "ax, ay = multiTo2DVis(allMeans, plot=False)\n",
    "plt.scatter(ax, ay, alpha = 1, c = colors)\n",
    "plt.show()"
   ]
  },
  {
   "cell_type": "code",
   "execution_count": null,
   "metadata": {
    "collapsed": true
   },
   "outputs": [],
   "source": [
    "mfcc_samples_path = os.path.join(mfcc_directory, \"amepip.pickle\")\n",
    "mfcc_samples = pickle.load(open(mfcc_samples_path, 'rb')).T\n",
    "pca = PCA(n_components=3)\n",
    "mfcc_samples = pca.fit_transform(mfcc_samples)"
   ]
  },
  {
   "cell_type": "code",
   "execution_count": null,
   "metadata": {
    "collapsed": false,
    "scrolled": true
   },
   "outputs": [],
   "source": [
    "# score priors\n",
    "def predictPrior(priorModel, samples):\n",
    "    birdScores = None\n",
    "    check = True\n",
    "    for bird,gmmModel in priorModel.items():\n",
    "        birdScore = gmmModel.score(samples)\n",
    "        birdScore = birdScore.reshape(len(birdScore),1)\n",
    "        birdScores = birdScore if check else np.concatenate([birdScores,birdScore], axis=1)\n",
    "        check=False\n",
    "        del(birdScore)\n",
    "    return birdScores\n",
    "gc.collect()\n",
    "\n",
    "logPriors = predictPrior(birdPriorModel, mfcc_samples)\n",
    "\n",
    "vfunc = np.vectorize(lambda x: math.exp(x))\n",
    "logPriorRowMeans = np.max(logPriors, axis=1)\n",
    "logPriors = logPriors - logPriorRowMeans[:, np.newaxis]\n",
    "logPriors = vfunc(logPriors)\n",
    "[print(str(i) +\":\"+ str(x)) for i,x in enumerate(np.mean(logPriors, axis=0))]\n",
    "\n",
    "sum_of_rows = logPriors.sum(axis=1)\n",
    "priorProbs = logPriors / sum_of_rows[:, np.newaxis]\n",
    "print(np.mean(priorProbs, axis=0))\n",
    "priorProbs.shape"
   ]
  },
  {
   "cell_type": "code",
   "execution_count": null,
   "metadata": {
    "collapsed": false,
    "scrolled": true
   },
   "outputs": [],
   "source": [
    "import DataLoader\n",
    "y_all = DataLoader.readFromDirectory('data/train_audio/amepip')\n",
    "\n",
    "y = np.array([])\n",
    "\n",
    "for i in range(y_all.shape[0]):\n",
    "    try:\n",
    "        y = np.concatenate([y, y_all[i]])\n",
    "    except:\n",
    "        y = y_all[i,:]\n",
    "\n",
    "        \n",
    "amp = DomainManipulation.rollingMean([math.fabs(yy) for yy in y], 1000, samples = mfcc_samples.shape[0])"
   ]
  },
  {
   "cell_type": "code",
   "execution_count": null,
   "metadata": {
    "collapsed": false
   },
   "outputs": [],
   "source": [
    "# plot segmentation\n",
    "plt.clf()\n",
    "\n",
    "start = 100000\n",
    "window = 2000\n",
    "\n",
    "plt.subplot(211)\n",
    "plt.plot(range(len(amp[start:start+window])), amp[start:start+window], 'b')\n",
    "\n",
    "logPriors = predictPrior(birdPriorModel, mfcc_samples)\n",
    "labels = priorProbs[:,6].flatten()\n",
    "# labels = logPriors[:,6].flatten()\n",
    "plt.subplot(212)\n",
    "plt.plot(range(len(labels[start:start+window])), labels[start:start+window], 'r')\n",
    "\n",
    "plt.show()"
   ]
  },
  {
   "cell_type": "code",
   "execution_count": null,
   "metadata": {
    "collapsed": false
   },
   "outputs": [],
   "source": [
    "np.mean(logPriors, axis=0).shape\n",
    "logPriors.shape"
   ]
  }
 ],
 "metadata": {
  "anaconda-cloud": {},
  "kernelspec": {
   "display_name": "Python [Root]",
   "language": "python",
   "name": "Python [Root]"
  },
  "language_info": {
   "codemirror_mode": {
    "name": "ipython",
    "version": 3
   },
   "file_extension": ".py",
   "mimetype": "text/x-python",
   "name": "python",
   "nbconvert_exporter": "python",
   "pygments_lexer": "ipython3",
   "version": "3.5.2"
  }
 },
 "nbformat": 4,
 "nbformat_minor": 0
}
