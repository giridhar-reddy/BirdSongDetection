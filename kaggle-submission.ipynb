{
 "cells": [
  {
   "cell_type": "code",
   "execution_count": 1,
   "metadata": {
    "execution": {
     "iopub.execute_input": "2020-09-08T05:06:20.648724Z",
     "iopub.status.busy": "2020-09-08T05:06:20.647550Z",
     "iopub.status.idle": "2020-09-08T05:06:31.334695Z",
     "shell.execute_reply": "2020-09-08T05:06:31.333764Z"
    },
    "papermill": {
     "duration": 10.710881,
     "end_time": "2020-09-08T05:06:31.334842",
     "exception": false,
     "start_time": "2020-09-08T05:06:20.623961",
     "status": "completed"
    },
    "tags": []
   },
   "outputs": [],
   "source": [
    "from keras.models import Sequential\n",
    "from keras.layers import LSTM, Dense, TimeDistributed, Bidirectional, Conv2D, MaxPooling2D, Flatten, LeakyReLU, AveragePooling2D\n",
    "from keras.utils import to_categorical\n",
    "import keras\n",
    "import tensorflow as tf\n",
    "import numpy as np\n",
    "import pandas as pd\n",
    "import os\n",
    "import pickle\n",
    "import matplotlib.pyplot as plt\n",
    "import pandas as pd\n",
    "import librosa\n",
    "import glob\n",
    "from sklearn.utils import shuffle\n",
    "from sklearn import metrics\n",
    "from io import StringIO\n",
    "import warnings\n",
    "import gc\n",
    "import tensorflow as tf\n",
    "from sklearn.metrics import precision_recall_fscore_support as prfs\n",
    "from sklearn.metrics import roc_auc_score\n",
    "import random\n",
    "import seaborn as sns"
   ]
  },
  {
   "cell_type": "code",
   "execution_count": 2,
   "metadata": {
    "execution": {
     "iopub.execute_input": "2020-09-08T05:06:31.368382Z",
     "iopub.status.busy": "2020-09-08T05:06:31.367136Z",
     "iopub.status.idle": "2020-09-08T05:06:31.370305Z",
     "shell.execute_reply": "2020-09-08T05:06:31.370850Z"
    },
    "papermill": {
     "duration": 0.021859,
     "end_time": "2020-09-08T05:06:31.371044",
     "exception": false,
     "start_time": "2020-09-08T05:06:31.349185",
     "status": "completed"
    },
    "tags": []
   },
   "outputs": [],
   "source": [
    "# # detect and init the TPU\n",
    "# tpu = tf.distribute.cluster_resolver.TPUClusterResolver()\n",
    "# tf.config.experimental_connect_to_cluster(tpu)\n",
    "# tf.tpu.experimental.initialize_tpu_system(tpu)\n",
    "\n",
    "# # instantiate a distribution strategy\n",
    "# tpu_strategy = tf.distribute.experimental.TPUStrategy(tpu)"
   ]
  },
  {
   "cell_type": "code",
   "execution_count": 3,
   "metadata": {
    "execution": {
     "iopub.execute_input": "2020-09-08T05:06:31.408970Z",
     "iopub.status.busy": "2020-09-08T05:06:31.408069Z",
     "iopub.status.idle": "2020-09-08T05:06:31.414855Z",
     "shell.execute_reply": "2020-09-08T05:06:31.414040Z"
    },
    "papermill": {
     "duration": 0.030759,
     "end_time": "2020-09-08T05:06:31.415001",
     "exception": false,
     "start_time": "2020-09-08T05:06:31.384242",
     "status": "completed"
    },
    "tags": []
   },
   "outputs": [],
   "source": [
    "from keras import backend as K\n",
    "\n",
    "def auc_filter(y_true, y_pred):\n",
    "    fpr, tpr, thresholds = metrics.roc_curve(y_true, y_pred, pos_label=1)\n",
    "    a1 = metrics.auc(fpr, tpr)\n",
    "    \n",
    "    return a1\n",
    "\n",
    "def auc_print(y_true, y_pred):\n",
    "    fpr, tpr, thresholds = metrics.roc_curve(y_true, y_pred, pos_label=1)\n",
    "    a1 = metrics.auc(fpr, tpr)\n",
    "    fpr, tpr, thresholds = metrics.roc_curve(y_true, y_pred, pos_label=0)\n",
    "    a0 = metrics.auc(fpr, tpr)\n",
    "    \n",
    "    return a1, a0"
   ]
  },
  {
   "cell_type": "code",
   "execution_count": 4,
   "metadata": {
    "_cell_guid": "b1076dfc-b9ad-4769-8c92-a6c4dae69d19",
    "_uuid": "8f2839f25d086af736a60e9eeb907d3b93b6e0e5",
    "execution": {
     "iopub.execute_input": "2020-09-08T05:06:31.472270Z",
     "iopub.status.busy": "2020-09-08T05:06:31.471049Z",
     "iopub.status.idle": "2020-09-08T05:06:34.219077Z",
     "shell.execute_reply": "2020-09-08T05:06:34.218254Z"
    },
    "papermill": {
     "duration": 2.789626,
     "end_time": "2020-09-08T05:06:34.219211",
     "exception": false,
     "start_time": "2020-09-08T05:06:31.429585",
     "status": "completed"
    },
    "scrolled": true,
    "tags": []
   },
   "outputs": [],
   "source": [
    "warnings.filterwarnings(\"ignore\")\n",
    "\n",
    "patience = 25\n",
    "if os.path.exists(\"../input/birdsong-recognition/test_audio/\"):\n",
    "    n_epochs=50\n",
    "    fc=100\n",
    "else:\n",
    "    n_epochs=50\n",
    "    fc=100\n",
    "\n",
    "prob_cutoff = 0.5\n",
    "\n",
    "prepared_test_str = \"\"\"row_id,site,audio_id,seconds\n",
    "bulori/XC128942,site_3,bulori/XC128942,\n",
    "bulori/XC170988,bulori/XC170988,bulori/XC170988,5\n",
    "normoc/XC54018,normoc/XC54018,normoc/XC54018,5\n",
    "normoc/XC62791,normoc/XC62791,normoc/XC62791,5\n",
    "herthr/XC53784,herthr/XC53784,herthr/XC53784,5\n",
    "herthr/XC119596,herthr/XC119596,herthr/XC119596,5\n",
    "brnthr/XC31308,brnthr/XC31308,brnthr/XC31308,5\n",
    "brnthr/XC53695,brnthr/XC53695,brnthr/XC53695,5\n",
    "vesspa/XC17095,vesspa/XC17095,vesspa/XC17095,5\n",
    "vesspa/XC17096,vesspa/XC17096,vesspa/XC17096,5\n",
    "solsan/XC17025,solsan/XC17025,solsan/XC17025,5\n",
    "norfli/XC11578,norfli/XC11578,norfli/XC11578,5\n",
    "lesnig/XC27724,lesnig/XC27724,lesnig/XC27724,5\n",
    "grycat/XC31058,grycat/XC31058,grycat/XC31058,5\n",
    "eastow/XC53188,eastow/XC53188,eastow/XC53188,5\n",
    "aldfly/XC2628,aldfly/XC2628,aldfly/XC2628,5\n",
    "ameavo/XC99571,ameavo/XC99571,ameavo/XC99571,5\n",
    "amebit/XC127371,amebit/XC127371,amebit/XC127371,5\n",
    "amecro/XC51410,amecro/XC51410,amecro/XC51410,5\n",
    "amegfi/XC17120,amegfi/XC17120,amegfi/XC17120,5\n",
    "\"\"\"\n",
    "\n",
    "# data parameters\n",
    "n_birds = 5\n",
    "mfcc_directory = '../input/mfcc-50/'\n",
    "train_dir = '../input/birdsong-recognition/train_audio/'\n",
    "birds = os.listdir(train_dir)\n",
    "random.shuffle(birds)\n",
    "\n",
    "birdHalf1 = birds[:int(len(birds)/2)]\n",
    "birdHalf2 = birds[int(len(birds)/2):]\n",
    "# birds = birds[:n_birds]\n",
    "if os.path.exists(\"../input/birdsong-recognition/test_audio/\"):\n",
    "#     birds = [\"treswa\", \"bulori\", \"herthr\", \"brnthr\", \"vesspa\"]\n",
    "    neglist = [\"reshaw\",\"grbher3\",\"rthhum\",\"pinjay\",\"rocpig\",\"yebfly\",\"foxspa\",\"casfin\",\"gadwal\",\"belspa2\",\"whbnut\",\"bkcchi\",\"brespa\",\"aldfly\",\"bktspa\",\"houfin\",\"labwoo\",\"reevir1\",\"dowwoo\",\"wewpew\",\"pygnut\",\"houwre\",\"bkhgro\",\"sposan\",\"caster1\",\"winwre3\",\"sposan\",\"labwoo\",\"moudov\",\"gnwtea\",\"houwre\",\"dusfly\",\"normoc\",\"boboli\",\"gadwal\",\"wewpew\",\"winwre3\",\"marwre\",\"dowwoo\",\"wewpew\",\"vigswa\",\"caster1\",\"comgol\",\"coohaw\",\"wesmea\",\"killde\",\"wessan\",\"dusfly\",\"amepip\",\"rufhum\",\"gnwtea\",\"marwre\",\"evegro\",\"casfin\",\"westan\",\"belspa2\",\"blujay\",\"olsfly\",\"amecro\",\"casfin\",\"sposan\",\"linspa\",\"olsfly\",\"grbher3\",\"blugrb1\",\"stejay\",\"savspa\",\"wilfly\",\"hoowar\",\"killde\",\"winwre3\",\"mallar3\",\"fiespa\",\"reshaw\",\"lazbun\",\"linspa\",\"rebwoo\",\"bktspa\",\"horlar\",\"magwar\",\"bnhcow\",\"cowscj1\",\"scoori\",\"rocpig\",\"bkcchi\",\"reevir1\",\"spotow\",\"belspa2\",\"belkin1\",\"blugrb1\",\"pasfly\",\"amepip\",\"dowwoo\",\"sposan\",\"pinsis\",\"cedwax\",\"westan\",\"clanut\",\"rufhum\",\"blugrb1\"]\n",
    "    birds = list(set(birds)-set(neglist))[0:10]\n",
    "else:\n",
    "    birds = [\"treswa\"]\n",
    "#     birds = ['grhowl', 'treswa', 'tunswa', 'yebsap', 'norpar', 'rebsap', 'commer', 'redcro', 'leabit', 'lesgol']\n",
    "#     neglist = [\"reshaw\",\"grbher3\",\"rthhum\",\"pinjay\",\"rocpig\",\"yebfly\",\"foxspa\",\"casfin\",\"gadwal\",\"belspa2\",\"whbnut\",\"bkcchi\",\"brespa\",\"aldfly\",\"bktspa\",\"houfin\",\"labwoo\",\"reevir1\",\"dowwoo\",\"wewpew\",\"pygnut\",\"houwre\",\"bkhgro\",\"sposan\",\"caster1\",\"winwre3\",\"sposan\",\"labwoo\",\"moudov\",\"gnwtea\",\"houwre\",\"dusfly\",\"normoc\",\"boboli\",\"gadwal\",\"wewpew\",\"winwre3\",\"marwre\",\"dowwoo\",\"wewpew\",\"vigswa\",\"caster1\",\"comgol\",\"coohaw\",\"wesmea\",\"killde\",\"wessan\",\"dusfly\",\"amepip\",\"rufhum\",\"gnwtea\",\"marwre\",\"evegro\",\"casfin\",\"westan\",\"belspa2\",\"blujay\",\"olsfly\",\"amecro\",\"casfin\",\"sposan\",\"linspa\",\"olsfly\",\"grbher3\",\"blugrb1\",\"stejay\",\"savspa\",\"wilfly\",\"hoowar\",\"killde\",\"winwre3\",\"mallar3\",\"fiespa\",\"reshaw\",\"lazbun\",\"linspa\",\"rebwoo\",\"bktspa\",\"horlar\",\"magwar\",\"bnhcow\",\"cowscj1\",\"scoori\",\"rocpig\",\"bkcchi\",\"reevir1\",\"spotow\",\"belspa2\",\"belkin1\",\"blugrb1\",\"pasfly\",\"amepip\",\"dowwoo\",\"sposan\",\"pinsis\",\"cedwax\",\"westan\",\"clanut\",\"rufhum\",\"blugrb1\"]\n",
    "#     birds = list(set(birds)-set(neglist))[0:10]\n",
    "\n",
    "trainTable = pd.read_csv(\"../input/birdsong-recognition/train.csv\")\n",
    "trainTable1 = trainTable[trainTable[\"ebird_code\"].isin(birdHalf1)]\n",
    "# trainTable2 = trainTable[trainTable[\"ebird_code\"].isin(['pinwar','plsvir','prawar','purfin','pygnut','rebmer','rebnut','rebsap','rebwoo'])]\n",
    "trainTable2 = trainTable[trainTable[\"ebird_code\"].isin(birdHalf2)]\n",
    "\n",
    "neg2 = list(trainTable1.agg(lambda x: train_dir + x.ebird_code + \"/\" + x.filename, axis=1).sample(n=100))\n",
    "neg1 = list(trainTable2.agg(lambda x: train_dir + x.ebird_code + \"/\" + x.filename, axis=1).sample(n=100))"
   ]
  },
  {
   "cell_type": "code",
   "execution_count": 5,
   "metadata": {
    "execution": {
     "iopub.execute_input": "2020-09-08T05:06:34.254170Z",
     "iopub.status.busy": "2020-09-08T05:06:34.253077Z",
     "iopub.status.idle": "2020-09-08T05:06:34.258490Z",
     "shell.execute_reply": "2020-09-08T05:06:34.257719Z"
    },
    "papermill": {
     "duration": 0.025885,
     "end_time": "2020-09-08T05:06:34.258619",
     "exception": false,
     "start_time": "2020-09-08T05:06:34.232734",
     "status": "completed"
    },
    "tags": []
   },
   "outputs": [
    {
     "data": {
      "text/plain": [
       "['treswa']"
      ]
     },
     "execution_count": 5,
     "metadata": {},
     "output_type": "execute_result"
    }
   ],
   "source": [
    "birds"
   ]
  },
  {
   "cell_type": "code",
   "execution_count": 6,
   "metadata": {
    "execution": {
     "iopub.execute_input": "2020-09-08T05:06:34.307121Z",
     "iopub.status.busy": "2020-09-08T05:06:34.306336Z",
     "iopub.status.idle": "2020-09-08T05:06:34.309904Z",
     "shell.execute_reply": "2020-09-08T05:06:34.309148Z"
    },
    "papermill": {
     "duration": 0.036698,
     "end_time": "2020-09-08T05:06:34.310067",
     "exception": false,
     "start_time": "2020-09-08T05:06:34.273369",
     "status": "completed"
    },
    "tags": []
   },
   "outputs": [],
   "source": [
    "def load_test_audio(path):\n",
    "    signal, blah = librosa.load(path, sr=22050)\n",
    "    if len(signal.shape)==1:\n",
    "        y = signal\n",
    "    else:\n",
    "        y = np.average(signal, axis=1) \n",
    "    return signal\n",
    "    \n",
    "\n",
    "def getBirdMfcc(bird, n_mfcc=50, filecount=None):\n",
    "    birddirectory = train_dir + \"/\" + bird\n",
    "    birdfiles = [os.path.join(train_dir, bird, birdfile) for birdfile in os.listdir(birddirectory)]\n",
    "    return getFilesMfcc(birdfiles, n_mfcc=n_mfcc, filecount=filecount)\n",
    "\n",
    "def getBirdMfccPickle(bird, n_mfcc=50, filecount=None):\n",
    "    birddirectory = mfcc_directory + bird + \".pickle\"\n",
    "    mfcc = pickle.load(open(birddirectory,'rb')).T\n",
    "    return mfcc\n",
    "\n",
    "def getFilesMfcc(files, n_mfcc=50, filecount=None):\n",
    "    if filecount!=None:\n",
    "        files = files[:filecount]\n",
    "    \n",
    "    mfcc = []\n",
    "    for file in files:\n",
    "        print(\"reading file: {}\".format(file))\n",
    "        try:\n",
    "            new_y = load_test_audio(file)\n",
    "        except:\n",
    "            continue\n",
    "        if len(new_y)==0:\n",
    "            continue\n",
    "        new_mfcc = librosa.feature.mfcc(n_mfcc=50, y=new_y, sr=22050)\n",
    "        mfcc.append(new_mfcc)\n",
    "        del(new_y)\n",
    "    gc.collect()\n",
    "    mfcc = np.concatenate(mfcc,axis=1).T\n",
    "    return mfcc"
   ]
  },
  {
   "cell_type": "code",
   "execution_count": 7,
   "metadata": {
    "execution": {
     "iopub.execute_input": "2020-09-08T05:06:34.350977Z",
     "iopub.status.busy": "2020-09-08T05:06:34.348844Z",
     "iopub.status.idle": "2020-09-08T05:06:34.694474Z",
     "shell.execute_reply": "2020-09-08T05:06:34.693001Z"
    },
    "papermill": {
     "duration": 0.368915,
     "end_time": "2020-09-08T05:06:34.694682",
     "exception": false,
     "start_time": "2020-09-08T05:06:34.325767",
     "status": "completed"
    },
    "tags": []
   },
   "outputs": [],
   "source": [
    "dataMap = {}\n",
    "testMap = {}\n",
    "\n",
    "# birds mfcc calcualtion\n",
    "for bird in birds:\n",
    "    bird_mfcc = getBirdMfccPickle(bird, filecount=fc)\n",
    "    train_samples = int(0.9*bird_mfcc.shape[0])\n",
    "    test_samples = -1*int(0.1*bird_mfcc.shape[0])\n",
    "    dataMap[bird] = bird_mfcc[:train_samples,]\n",
    "    testMap[bird] = bird_mfcc[test_samples:,]\n",
    "\n",
    "# neg mfcc calculation\n",
    "bird_mfcc = getBirdMfccPickle('neg1', filecount=100).T\n",
    "train_samples = int(0.9*bird_mfcc.shape[0])\n",
    "test_samples = -1*int(0.1*bird_mfcc.shape[0])\n",
    "dataMap[\"neg1\"] = bird_mfcc[:train_samples,]\n",
    "testMap[\"neg1\"] = bird_mfcc[test_samples:,]\n",
    "\n",
    "histories = {}\n",
    "models = {}"
   ]
  },
  {
   "cell_type": "code",
   "execution_count": 8,
   "metadata": {
    "execution": {
     "iopub.execute_input": "2020-09-08T05:06:34.770546Z",
     "iopub.status.busy": "2020-09-08T05:06:34.759926Z",
     "iopub.status.idle": "2020-09-08T05:06:34.790826Z",
     "shell.execute_reply": "2020-09-08T05:06:34.790122Z"
    },
    "papermill": {
     "duration": 0.075015,
     "end_time": "2020-09-08T05:06:34.790971",
     "exception": false,
     "start_time": "2020-09-08T05:06:34.715956",
     "status": "completed"
    },
    "tags": []
   },
   "outputs": [],
   "source": [
    "def train_generator(bird):\n",
    "    while True:\n",
    "        sequence_length = 215\n",
    "        \n",
    "        xarr = []\n",
    "        yarr = []\n",
    "        \n",
    "        for k,v in {bird:dataMap[bird], \"neg1\":dataMap[\"neg1\"]}.items():\n",
    "            nsamples = v.shape[0]\n",
    "            size=3\n",
    "            samples = np.random.randint(0,nsamples-sequence_length+1,size=size)\n",
    "            if k==bird:\n",
    "                birdohe = np.array([[1]])\n",
    "            else:\n",
    "                birdohe = np.array([[0]])\n",
    "            for sample in samples:\n",
    "                xf = v[sample:sample+sequence_length,:]\n",
    "                lb, ub = np.percentile(xf, 5), xf.max()\n",
    "                xp, yp = [xf < lb, xf > ub , np.logical_not(np.logical_and(xf < lb , xf > ub))], [0, 1, lambda x: (x-lb)/ub]\n",
    "                xt = np.piecewise(xf, xp, yp)\n",
    "                \n",
    "                xarr.append(xt.reshape(1,sequence_length,50,1))\n",
    "                yarr.append(birdohe.reshape(1,1))\n",
    "        x_train = np.concatenate(xarr)\n",
    "        y_train = np.concatenate(yarr)\n",
    "        x_train, y_train = shuffle(x_train, y_train)\n",
    "        yield x_train, y_train\n",
    "\n",
    "def test_generator(bird, size=1500):\n",
    "    sequence_length = 215\n",
    "\n",
    "    xarr = []\n",
    "    yarr = []\n",
    "\n",
    "    for k,v in {bird:testMap[bird], \"neg1\":testMap[\"neg1\"]}.items():\n",
    "        nsamples = v.shape[0]\n",
    "        samples = np.random.randint(0,nsamples-sequence_length+1,size=size)\n",
    "        if k==bird:\n",
    "            birdohe = np.array([[1]])\n",
    "        else:\n",
    "            birdohe = np.array([[0]])\n",
    "        for sample in samples:\n",
    "            xf = v[sample:sample+sequence_length,:]\n",
    "            lb, ub = np.percentile(xf, 5), xf.max()\n",
    "            xp, yp = [xf < lb, xf > ub , np.logical_not(np.logical_and(xf < lb , xf > ub))], [0, 1, lambda x: (x-lb)/ub]\n",
    "            xt = np.piecewise(xf, xp, yp)\n",
    "\n",
    "            xarr.append(xt.reshape(1,sequence_length,50,1))\n",
    "            yarr.append(birdohe.reshape(1,1))\n",
    "    x_train = np.concatenate(xarr)\n",
    "    y_train = np.concatenate(yarr)\n",
    "    x_train, y_train = shuffle(x_train, y_train)\n",
    "    return x_train, y_train\n",
    "\n",
    "def sample_splitter(v):\n",
    "    sequence_length = 215\n",
    "    \n",
    "    rowsl = v.shape[0]\n",
    "    nsamples = int(rowsl/sequence_length)\n",
    "    \n",
    "    xarr = []\n",
    "    for i in range(nsamples):\n",
    "        sample = i*sequence_length\n",
    "        xf = v[sample:sample+sequence_length,:]\n",
    "        lb, ub = np.percentile(xf, 5), xf.max()\n",
    "        xp, yp = [xf < lb, xf > ub , np.logical_not(np.logical_and(xf < lb , xf > ub))], [0, 1, lambda x: (x-lb)/ub]\n",
    "        xt = np.piecewise(xf, xp, yp)\n",
    "        xarr.append(xt.reshape(1,sequence_length,50,1))\n",
    "    \n",
    "    if rowsl-25>nsamples*sequence_length:\n",
    "        sample = nsamples*sequence_length\n",
    "        xf = v[sample:sample+sequence_length,:]\n",
    "        lb, ub = np.percentile(xf, 5), xf.max()\n",
    "        xp, yp = [xf < lb, xf > ub , np.logical_not(np.logical_and(xf < lb , xf > ub))], [0, 1, lambda x: (x-lb)/ub]\n",
    "        xt = np.piecewise(xf, xp, yp)\n",
    "        \n",
    "        mfccdim = xt.shape\n",
    "        print(mfccdim)\n",
    "        diff = sequence_length - mfccdim[0]\n",
    "        lastone = xt[mfccdim[0]-1,:]\n",
    "        xt = np.vstack([xt, np.tile(lastone, (diff, 1))])\n",
    "        xarr.append(xt.reshape(1,sequence_length,50,1))\n",
    "    \n",
    "    x_train = np.concatenate(xarr)\n",
    "    \n",
    "    return x_train"
   ]
  },
  {
   "cell_type": "code",
   "execution_count": 9,
   "metadata": {
    "execution": {
     "iopub.execute_input": "2020-09-08T05:06:34.833818Z",
     "iopub.status.busy": "2020-09-08T05:06:34.833074Z",
     "iopub.status.idle": "2020-09-08T05:06:34.836839Z",
     "shell.execute_reply": "2020-09-08T05:06:34.836213Z"
    },
    "papermill": {
     "duration": 0.031291,
     "end_time": "2020-09-08T05:06:34.836973",
     "exception": false,
     "start_time": "2020-09-08T05:06:34.805682",
     "status": "completed"
    },
    "tags": []
   },
   "outputs": [],
   "source": [
    "def get_model(): \n",
    "#     with tpu_strategy.scope():\n",
    "    model = Sequential()\n",
    "\n",
    "    model.add(Conv2D(4, kernel_size=(5, 1), activation='tanh', input_shape=(215, 50, 1)))\n",
    "    model.add(MaxPooling2D((3, 1), padding='same'))\n",
    "    model.add(Conv2D(2, kernel_size=(3, 3), activation='tanh'))\n",
    "    model.add(MaxPooling2D((8,1), strides=(8,1), padding='same'))\n",
    "    model.add(Flatten())\n",
    "    model.add(keras.layers.Dropout(0.9))\n",
    "    model.add(Dense(1, activation='sigmoid'))\n",
    "\n",
    "#     for layer in model.layers:\n",
    "#         print(layer.output_shape)\n",
    "#         if \"conv\" in layer.name:\n",
    "#             filters, biases = layer.get_weights()\n",
    "#             print(layer.name, filters.shape)\n",
    "\n",
    "    adamo=keras.optimizers.Adam(lr=0.001, beta_1=0.9, beta_2=0.999)\n",
    "    model.compile(loss='binary_crossentropy',\n",
    "                  optimizer=adamo,\n",
    "                  metrics=[keras.metrics.AUC(name=\"auc\")])\n",
    "\n",
    "    gc.collect()\n",
    "    return model"
   ]
  },
  {
   "cell_type": "code",
   "execution_count": 10,
   "metadata": {
    "execution": {
     "iopub.execute_input": "2020-09-08T05:06:34.877355Z",
     "iopub.status.busy": "2020-09-08T05:06:34.876478Z",
     "iopub.status.idle": "2020-09-08T05:10:13.710688Z",
     "shell.execute_reply": "2020-09-08T05:10:13.711670Z"
    },
    "papermill": {
     "duration": 218.860113,
     "end_time": "2020-09-08T05:10:13.711940",
     "exception": false,
     "start_time": "2020-09-08T05:06:34.851827",
     "status": "completed"
    },
    "tags": []
   },
   "outputs": [
    {
     "name": "stdout",
     "output_type": "stream",
     "text": [
      "Modeling bird: treswa\n",
      "Epoch 1/40\n",
      "400/400 [==============================] - 15s 36ms/step - loss: 0.7276 - auc: 0.6088 - val_loss: 0.7499 - val_auc: 0.4832\n",
      "Epoch 2/40\n",
      "400/400 [==============================] - 14s 36ms/step - loss: 0.6328 - auc: 0.7071 - val_loss: 0.7198 - val_auc: 0.5992\n",
      "Epoch 3/40\n",
      "400/400 [==============================] - 14s 35ms/step - loss: 0.6009 - auc: 0.7451 - val_loss: 0.6771 - val_auc: 0.6546\n",
      "Epoch 4/40\n",
      "400/400 [==============================] - 15s 36ms/step - loss: 0.5835 - auc: 0.7617 - val_loss: 0.7279 - val_auc: 0.6294\n",
      "Epoch 5/40\n",
      "400/400 [==============================] - 14s 35ms/step - loss: 0.5611 - auc: 0.7866 - val_loss: 0.7282 - val_auc: 0.6497\n",
      "Epoch 6/40\n",
      "400/400 [==============================] - 14s 35ms/step - loss: 0.5482 - auc: 0.7997 - val_loss: 0.5531 - val_auc: 0.8102\n",
      "Epoch 7/40\n",
      "400/400 [==============================] - 14s 36ms/step - loss: 0.5249 - auc: 0.8164 - val_loss: 0.6440 - val_auc: 0.7172\n",
      "Epoch 8/40\n",
      "400/400 [==============================] - 14s 35ms/step - loss: 0.5423 - auc: 0.8027 - val_loss: 0.6118 - val_auc: 0.7516\n",
      "Epoch 9/40\n",
      "400/400 [==============================] - 14s 35ms/step - loss: 0.5504 - auc: 0.8010 - val_loss: 0.6161 - val_auc: 0.7530\n",
      "Epoch 10/40\n",
      "400/400 [==============================] - 14s 34ms/step - loss: 0.5258 - auc: 0.8155 - val_loss: 0.6337 - val_auc: 0.7367\n",
      "Epoch 11/40\n",
      "400/400 [==============================] - 14s 36ms/step - loss: 0.5069 - auc: 0.8307 - val_loss: 0.5511 - val_auc: 0.8241\n",
      "Epoch 12/40\n",
      "400/400 [==============================] - 15s 37ms/step - loss: 0.5289 - auc: 0.8165 - val_loss: 0.5458 - val_auc: 0.8214\n",
      "Epoch 13/40\n",
      "400/400 [==============================] - 14s 35ms/step - loss: 0.5487 - auc: 0.8049 - val_loss: 0.5696 - val_auc: 0.7921\n",
      "Epoch 14/40\n",
      "400/400 [==============================] - 14s 35ms/step - loss: 0.5228 - auc: 0.8201 - val_loss: 0.5594 - val_auc: 0.8125\n",
      "Epoch 15/40\n",
      "400/400 [==============================] - 15s 36ms/step - loss: 0.5170 - auc: 0.8228 - val_loss: 0.5655 - val_auc: 0.8325\n"
     ]
    }
   ],
   "source": [
    "for bird in birds:\n",
    "    x_val,y_val = test_generator(bird, size=3000)\n",
    "    \n",
    "    model = get_model()\n",
    "    print(\"Modeling bird: {}\".format(bird))\n",
    "    my_callbacks = [tf.keras.callbacks.EarlyStopping(monitor='auc', patience=4, mode=\"max\", restore_best_weights=True)]\n",
    "    \n",
    "    history = model.fit_generator(train_generator(bird), \n",
    "                                  steps_per_epoch=400, \n",
    "                                  epochs=40, verbose=1, \n",
    "                                  validation_data=(x_val, y_val),\n",
    "                                  callbacks=my_callbacks)\n",
    "    \n",
    "    models[bird] = model\n",
    "    histories[bird] = history\n",
    "    del(history)\n",
    "    del(model)"
   ]
  },
  {
   "cell_type": "code",
   "execution_count": 11,
   "metadata": {
    "execution": {
     "iopub.execute_input": "2020-09-08T05:10:15.469332Z",
     "iopub.status.busy": "2020-09-08T05:10:15.468367Z",
     "iopub.status.idle": "2020-09-08T05:10:15.471369Z",
     "shell.execute_reply": "2020-09-08T05:10:15.471962Z"
    },
    "papermill": {
     "duration": 0.858644,
     "end_time": "2020-09-08T05:10:15.472179",
     "exception": false,
     "start_time": "2020-09-08T05:10:14.613535",
     "status": "completed"
    },
    "tags": []
   },
   "outputs": [],
   "source": [
    "# for bird in birds:\n",
    "#     print(\"bird report: {} --------------------------------------------------\".format(bird))\n",
    "    \n",
    "#     model = models[bird]\n",
    "#     x_val,y_val = test_generator(bird,size=5000)\n",
    "#     preds = model.predict(x_val)\n",
    "#     print(\"validation loss: {}\".format(model.evaluate(x_val, y_val, verbose=False)))\n",
    "#     print(\"validation  auc: {}\".format(auc_print(y_val, preds)))\n",
    "#     preds[preds > 0.5] = 1\n",
    "#     preds[preds <= 0.5] = 0\n",
    "#     [print(\"{}: {}\".format(m,e)) for e,m in zip(prfs(y_val,preds,labels=[1,0]),[\"precision\",\"   recall\",\"  f-score\",\"   counts\"])]\n",
    "    \n",
    "#     print(\"------------------------------------------------------------------\".format(bird))\n",
    "    \n",
    "# for bird in birds:\n",
    "#     history = histories[bird]\n",
    "#     plt.subplot(2,1,1)\n",
    "#     plt.plot(history.history[\"loss\"])\n",
    "#     plt.plot(history.history[\"val_loss\"])\n",
    "\n",
    "#     plt.subplot(2,1,2)\n",
    "#     plt.plot(history.history[\"auc\"])\n",
    "#     plt.plot(history.history[\"val_auc\"])\n",
    "#     title_obj = plt.title(bird)\n",
    "# #     plt.getp(title_obj)                    #print out the properties of title\n",
    "# #     plt.getp(title_obj, 'text')            #print out the 'text' property for title\n",
    "# #     plt.setp(title_obj, color='r')\n",
    "#     plt.show()\n",
    "#     plt.clf()"
   ]
  },
  {
   "cell_type": "markdown",
   "execution_count": null,
   "metadata": {
    "papermill": {
     "duration": 0.84538,
     "end_time": "2020-09-08T05:10:17.241526",
     "exception": false,
     "start_time": "2020-09-08T05:10:16.396146",
     "status": "completed"
    },
    "tags": []
   },
   "source": [
    "Model refining"
   ]
  },
  {
   "cell_type": "code",
   "execution_count": 12,
   "metadata": {
    "execution": {
     "iopub.execute_input": "2020-09-08T05:10:18.935940Z",
     "iopub.status.busy": "2020-09-08T05:10:18.934563Z",
     "iopub.status.idle": "2020-09-08T05:10:35.598050Z",
     "shell.execute_reply": "2020-09-08T05:10:35.596934Z"
    },
    "papermill": {
     "duration": 17.518504,
     "end_time": "2020-09-08T05:10:35.598243",
     "exception": false,
     "start_time": "2020-09-08T05:10:18.079739",
     "status": "completed"
    },
    "tags": []
   },
   "outputs": [
    {
     "name": "stdout",
     "output_type": "stream",
     "text": [
      "0.82121044\n",
      "Refined model count: 1\n"
     ]
    }
   ],
   "source": [
    "refinedModels = {}\n",
    "\n",
    "refinedWriter = open(\"refined.txt\",\"a\")\n",
    "\n",
    "for mbird,bmodel in models.items():\n",
    "    x_val,y_val = test_generator(mbird,size=5000)\n",
    "    preds = bmodel.predict(x_val)\n",
    "    af = auc_filter(y_val, preds)\n",
    "    print(af)\n",
    "    if(af>0.75):\n",
    "        refinedModels[mbird] = bmodel\n",
    "    refinedWriter.write(\"{}:{}\\n\".format(mbird,af))\n",
    "\n",
    "refinedWriter.close()\n",
    "\n",
    "print(\"Refined model count: {}\".format(len(refinedModels.keys())))"
   ]
  },
  {
   "cell_type": "code",
   "execution_count": 13,
   "metadata": {
    "execution": {
     "iopub.execute_input": "2020-09-08T05:10:37.363374Z",
     "iopub.status.busy": "2020-09-08T05:10:37.362158Z",
     "iopub.status.idle": "2020-09-08T05:10:37.371760Z",
     "shell.execute_reply": "2020-09-08T05:10:37.371163Z"
    },
    "papermill": {
     "duration": 0.870596,
     "end_time": "2020-09-08T05:10:37.371904",
     "exception": false,
     "start_time": "2020-09-08T05:10:36.501308",
     "status": "completed"
    },
    "tags": []
   },
   "outputs": [],
   "source": [
    "if os.path.exists(\"../input/birdsong-recognition/test_audio/\"):\n",
    "    test_dir = \"../input/birdsong-recognition/test_audio/\"\n",
    "    testtable = pd.read_csv(\"../input/birdsong-recognition/test.csv\")\n",
    "else:\n",
    "    test_dir = \"../input/birdsong-recognition/train_audio/\"\n",
    "    testtable = pd.read_csv(StringIO(prepared_test_str))\n",
    "\n",
    "\n",
    "def load_test_clip(signal, start_time, duration=5):\n",
    "    sr=22050\n",
    "    maxl = len(signal)\n",
    "    \n",
    "    if duration!=None:\n",
    "        y = signal[max(0,int(start_time)*22050):min(int(start_time+duration)*22050,maxl)]\n",
    "    else:\n",
    "        y = signal[max(0,start_time*22050):]\n",
    "    \n",
    "    mfcc_feat = librosa.feature.mfcc(n_mfcc=50, y=y, sr=22050)\n",
    "    return mfcc_feat.T\n",
    "\n",
    "def make_predictions(sound_clip):\n",
    "    sound_x = sample_splitter(sound_clip)\n",
    "    \n",
    "    predlist = []\n",
    "    for mbird,bmodel in refinedModels.items():\n",
    "        sound_y = bmodel.predict(sound_x)\n",
    "        prob = make_probability(sound_x, bmodel)\n",
    "        if prob>0.75:\n",
    "            predlist.append(mbird)\n",
    "    \n",
    "    if len(predlist)==0:\n",
    "        predbirds = \"nocall\"\n",
    "    else:\n",
    "        predbirds = \" \".join(predlist)\n",
    "    \n",
    "    return predbirds\n",
    "    \n",
    "# // deprecated\n",
    "def make_probability(sound_x, bmodel):\n",
    "    sound_y = bmodel.predict(sound_x)\n",
    "    \n",
    "    prob = sound_y.max()\n",
    "    return prob\n",
    "\n",
    "def reshape_pad_sound(sound_clip):\n",
    "    mfccdim = sound_clip.shape\n",
    "    diff = 215 - mfccdim[0]\n",
    "    if diff!=0:\n",
    "        lastone = sound_clip[mfccdim[0]-1,:]\n",
    "        sound_clip = np.vstack([sound_clip, np.tile(lastone, (diff, 1))])\n",
    "    sound_x = sound_clip.reshape(1,215,mfccdim[1], 1)\n",
    "    \n",
    "    return sound_x\n",
    "    "
   ]
  },
  {
   "cell_type": "code",
   "execution_count": 14,
   "metadata": {
    "execution": {
     "iopub.execute_input": "2020-09-08T05:10:39.044623Z",
     "iopub.status.busy": "2020-09-08T05:10:39.043697Z",
     "iopub.status.idle": "2020-09-08T05:10:39.047535Z",
     "shell.execute_reply": "2020-09-08T05:10:39.048137Z"
    },
    "papermill": {
     "duration": 0.843178,
     "end_time": "2020-09-08T05:10:39.048337",
     "exception": false,
     "start_time": "2020-09-08T05:10:38.205159",
     "status": "completed"
    },
    "tags": []
   },
   "outputs": [
    {
     "data": {
      "text/plain": [
       "array([[1, 2, 3, 4],\n",
       "       [1, 2, 3, 4],\n",
       "       [1, 2, 3, 4],\n",
       "       [1, 2, 3, 4]])"
      ]
     },
     "execution_count": 14,
     "metadata": {},
     "output_type": "execute_result"
    }
   ],
   "source": [
    "c = np.array([[1,2,3,4]])\n",
    "np.tile(c,(4,1))"
   ]
  },
  {
   "cell_type": "code",
   "execution_count": 15,
   "metadata": {
    "execution": {
     "iopub.execute_input": "2020-09-08T05:10:40.733579Z",
     "iopub.status.busy": "2020-09-08T05:10:40.732624Z",
     "iopub.status.idle": "2020-09-08T05:11:39.729585Z",
     "shell.execute_reply": "2020-09-08T05:11:39.728914Z"
    },
    "papermill": {
     "duration": 59.847357,
     "end_time": "2020-09-08T05:11:39.729722",
     "exception": false,
     "start_time": "2020-09-08T05:10:39.882365",
     "status": "completed"
    },
    "tags": []
   },
   "outputs": [
    {
     "name": "stdout",
     "output_type": "stream",
     "text": [
      "aldfly/XC2628\n",
      "ameavo/XC99571\n",
      "amebit/XC127371\n",
      "amecro/XC51410\n",
      "amegfi/XC17120\n",
      "brnthr/XC31308\n",
      "brnthr/XC53695\n",
      "bulori/XC128942\n",
      "(208, 50)\n",
      "bulori/XC170988\n",
      "eastow/XC53188\n",
      "grycat/XC31058\n",
      "herthr/XC119596\n",
      "herthr/XC53784\n",
      "lesnig/XC27724\n",
      "norfli/XC11578\n",
      "normoc/XC54018\n",
      "normoc/XC62791\n",
      "solsan/XC17025\n",
      "(147, 50)\n",
      "vesspa/XC17095\n",
      "vesspa/XC17096\n"
     ]
    }
   ],
   "source": [
    "test_info = testtable.sort_values(\"audio_id\")\n",
    "\n",
    "preds = []\n",
    "sound_read = \"\"\n",
    "for index, row in test_info.iterrows():\n",
    "    # Get test row information\n",
    "    site = row['site']\n",
    "    try:\n",
    "        start_time = row['seconds'] - 5\n",
    "    except:\n",
    "        start_time = 0\n",
    "    row_id = row['row_id']\n",
    "    audio_id = row['audio_id']\n",
    "    print(audio_id)\n",
    "\n",
    "    try:\n",
    "        if sound_read != audio_id:\n",
    "            sound_audio = load_test_audio(test_dir + audio_id + '.mp3')\n",
    "            sound_read = audio_id\n",
    "    except:\n",
    "        print(\"exception\")\n",
    "        pred = \"nocall\"\n",
    "        preds.append(pred)\n",
    "        continue\n",
    "        \n",
    "    if site == 'site_3':\n",
    "        sound_clip = load_test_clip(sound_audio, 0, duration=None)\n",
    "    else:\n",
    "        sound_clip = load_test_clip(sound_audio, start_time)\n",
    "            \n",
    "#     try:\n",
    "#         if len(refinedModels.items)==0:\n",
    "#             pred = \"aldfly\"\n",
    "#         else:\n",
    "    pred = make_predictions(sound_clip)\n",
    "#     except:\n",
    "#         pred = \"nocall\"\n",
    "    preds.append(pred)\n",
    "    \n",
    "test_info['birds'] = preds\n",
    "testtable = test_info.sort_index()\n",
    "\n",
    "test_submission = testtable.drop(['site', 'audio_id', 'seconds'], axis = 1)\n",
    "\n",
    "test_submission.to_csv('submission.csv', index = None)"
   ]
  },
  {
   "cell_type": "code",
   "execution_count": 16,
   "metadata": {
    "execution": {
     "iopub.execute_input": "2020-09-08T05:11:41.456746Z",
     "iopub.status.busy": "2020-09-08T05:11:41.455727Z",
     "iopub.status.idle": "2020-09-08T05:11:41.461152Z",
     "shell.execute_reply": "2020-09-08T05:11:41.459946Z"
    },
    "papermill": {
     "duration": 0.893393,
     "end_time": "2020-09-08T05:11:41.461297",
     "exception": false,
     "start_time": "2020-09-08T05:11:40.567904",
     "status": "completed"
    },
    "tags": []
   },
   "outputs": [
    {
     "name": "stdout",
     "output_type": "stream",
     "text": [
      "             row_id   birds\n",
      "0   bulori/XC128942  nocall\n",
      "1   bulori/XC170988  nocall\n",
      "2    normoc/XC54018  nocall\n",
      "3    normoc/XC62791  nocall\n",
      "4    herthr/XC53784  nocall\n",
      "5   herthr/XC119596  nocall\n",
      "6    brnthr/XC31308  nocall\n",
      "7    brnthr/XC53695  nocall\n",
      "8    vesspa/XC17095  nocall\n",
      "9    vesspa/XC17096  nocall\n",
      "10   solsan/XC17025  nocall\n",
      "11   norfli/XC11578  nocall\n",
      "12   lesnig/XC27724  nocall\n",
      "13   grycat/XC31058  nocall\n",
      "14   eastow/XC53188  nocall\n",
      "15    aldfly/XC2628  nocall\n",
      "16   ameavo/XC99571  nocall\n",
      "17  amebit/XC127371  nocall\n",
      "18   amecro/XC51410  nocall\n",
      "19   amegfi/XC17120  nocall\n"
     ]
    }
   ],
   "source": [
    "print(test_submission.head(20))"
   ]
  },
  {
   "cell_type": "code",
   "execution_count": 17,
   "metadata": {
    "execution": {
     "iopub.execute_input": "2020-09-08T05:11:43.193359Z",
     "iopub.status.busy": "2020-09-08T05:11:43.192295Z",
     "iopub.status.idle": "2020-09-08T05:11:43.195865Z",
     "shell.execute_reply": "2020-09-08T05:11:43.195120Z"
    },
    "papermill": {
     "duration": 0.857878,
     "end_time": "2020-09-08T05:11:43.195998",
     "exception": false,
     "start_time": "2020-09-08T05:11:42.338120",
     "status": "completed"
    },
    "tags": []
   },
   "outputs": [],
   "source": [
    "# # single bird call\n",
    "# bird = birds[0]\n",
    "# x_val,y_val = test_generator(bird)\n",
    "\n",
    "# model = get_model()\n",
    "# my_callbacks = [tf.keras.callbacks.EarlyStopping(monitor='val_accuracy', patience=25, mode=\"max\", restore_best_weights=True)]\n",
    "    \n",
    "# history = model.fit_generator(train_generator(bird), steps_per_epoch=150, epochs=100, verbose=1, validation_data=(x_val, y_val))\n",
    "\n",
    "# plt.subplot(2,1,1)\n",
    "# plt.plot(history.history[\"loss\"])\n",
    "# plt.plot(history.history[\"val_loss\"])\n",
    "\n",
    "# plt.subplot(2,1,2)\n",
    "# plt.plot(history.history[\"accuracy\"])\n",
    "# plt.plot(history.history[\"val_accuracy\"])\n",
    "# plt.show()\n",
    "\n",
    "# x_val,y_val = test_generator(bird)\n",
    "# preds = model.predict(x_val)\n",
    "# preds[preds > 0.5] = 1\n",
    "# preds[preds <= 0.5] = 0\n",
    "\n",
    "# prfs(y_val,preds,labels=[1,0])"
   ]
  }
 ],
 "metadata": {
  "kernelspec": {
   "display_name": "Python 3",
   "language": "python",
   "name": "python3"
  },
  "language_info": {
   "codemirror_mode": {
    "name": "ipython",
    "version": 3
   },
   "file_extension": ".py",
   "mimetype": "text/x-python",
   "name": "python",
   "nbconvert_exporter": "python",
   "pygments_lexer": "ipython3",
   "version": "3.7.6"
  },
  "papermill": {
   "duration": 329.168606,
   "end_time": "2020-09-08T05:11:44.142918",
   "environment_variables": {},
   "exception": null,
   "input_path": "__notebook__.ipynb",
   "output_path": "__notebook__.ipynb",
   "parameters": {},
   "start_time": "2020-09-08T05:06:14.974312",
   "version": "2.1.0"
  }
 },
 "nbformat": 4,
 "nbformat_minor": 4
}
