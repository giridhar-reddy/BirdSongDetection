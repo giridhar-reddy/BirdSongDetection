{
 "cells": [
  {
   "cell_type": "code",
   "execution_count": 1,
   "metadata": {
    "collapsed": false
   },
   "outputs": [
    {
     "name": "stderr",
     "output_type": "stream",
     "text": [
      "Using TensorFlow backend.\n",
      "C:\\Users\\karamvenkatsaigiridh\\AppData\\Local\\Continuum\\Anaconda3\\lib\\site-packages\\numba\\errors.py:105: UserWarning: Insufficiently recent colorama version found. Numba requires colorama >= 0.3.9\n",
      "  warnings.warn(msg)\n"
     ]
    }
   ],
   "source": [
    "from keras.models import Sequential\n",
    "from keras.layers import LSTM, Dense, TimeDistributed, Bidirectional\n",
    "from keras.utils import to_categorical\n",
    "import numpy as np\n",
    "import os\n",
    "import pickle\n",
    "from sklearn.preprocessing import OneHotEncoder\n",
    "from sklearn.preprocessing import LabelEncoder\n",
    "import matplotlib.pyplot as plt\n",
    "import pandas as pd\n",
    "import librosa\n",
    "import glob\n",
    "from sklearn.utils import shuffle\n",
    "from io import StringIO\n",
    "import warnings\n",
    "import gc\n",
    "import tensorflow as tf"
   ]
  },
  {
   "cell_type": "code",
   "execution_count": 2,
   "metadata": {
    "_cell_guid": "b1076dfc-b9ad-4769-8c92-a6c4dae69d19",
    "_uuid": "8f2839f25d086af736a60e9eeb907d3b93b6e0e5",
    "collapsed": true
   },
   "outputs": [],
   "source": [
    "warnings.filterwarnings(\"ignore\")\n",
    "\n",
    "if os.path.exists(\"../input/birdsong-recognition/test_audio/\"):\n",
    "    n_epochs=200\n",
    "    fc=None\n",
    "else:\n",
    "    n_epochs=50\n",
    "    fc=2\n",
    "\n",
    "prob_cutoff = 0.5\n",
    "\n",
    "prepared_test_str = \"\"\"row_id,site,audio_id,seconds\n",
    "bulori/XC128942,bulori/XC128942,bulori/XC128942,5\n",
    "bulori/XC170988,bulori/XC170988,bulori/XC170988,5\n",
    "normoc/XC54018,normoc/XC54018,normoc/XC54018,5\n",
    "normoc/XC62791,normoc/XC62791,normoc/XC62791,5\n",
    "herthr/XC53784,herthr/XC53784,herthr/XC53784,5\n",
    "herthr/XC119596,herthr/XC119596,herthr/XC119596,5\n",
    "brnthr/XC31308,brnthr/XC31308,brnthr/XC31308,5\n",
    "brnthr/XC53695,brnthr/XC53695,brnthr/XC53695,5\n",
    "vesspa/XC17095,vesspa/XC17095,vesspa/XC17095,5\n",
    "vesspa/XC17096,vesspa/XC17096,vesspa/XC17096,5\n",
    "solsan/XC17025,solsan/XC17025,solsan/XC17025,5\n",
    "norfli/XC11578,norfli/XC11578,norfli/XC11578,5\n",
    "lesnig/XC27724,lesnig/XC27724,lesnig/XC27724,5\n",
    "grycat/XC31058,grycat/XC31058,grycat/XC31058,5\n",
    "eastow/XC53188,eastow/XC53188,eastow/XC53188,5\n",
    "aldfly/XC2628,aldfly/XC2628,aldfly/XC2628,5\n",
    "ameavo/XC99571,ameavo/XC99571,ameavo/XC99571,5\n",
    "amebit/XC127371,amebit/XC127371,amebit/XC127371,5\n",
    "amecro/XC51410,amecro/XC51410,amecro/XC51410,5\n",
    "amegfi/XC17120,amegfi/XC17120,amegfi/XC17120,5\n",
    "\"\"\""
   ]
  },
  {
   "cell_type": "code",
   "execution_count": 3,
   "metadata": {
    "collapsed": true
   },
   "outputs": [],
   "source": [
    "def load_test_audio(path):\n",
    "    signal, blah = librosa.load(path, sr=22050)\n",
    "    \n",
    "    if len(signal.shape)==1:\n",
    "        y = signal\n",
    "    else:\n",
    "        y = np.average(signal, axis=1)\n",
    "    \n",
    "    return signal\n",
    "    \n",
    "\n",
    "def getBirdMfcc(bird, n_mfcc=50, filecount=None):\n",
    "    birddirectory = \"data/mfcc_50/\" + bird + \".pickle\"\n",
    "    mfcc = pickle.load(open(birddirectory,'rb')).T\n",
    "    return mfcc"
   ]
  },
  {
   "cell_type": "code",
   "execution_count": 4,
   "metadata": {
    "collapsed": false
   },
   "outputs": [
    {
     "data": {
      "text/plain": [
       "OneHotEncoder(categorical_features='all', dtype=<class 'float'>,\n",
       "       handle_unknown='error', n_values='auto', sparse=False)"
      ]
     },
     "execution_count": 4,
     "metadata": {},
     "output_type": "execute_result"
    }
   ],
   "source": [
    "mfcc_directory = '../input/mfcc-50/'\n",
    "birds = [\"bulori\", \"normoc\", \"herthr\", \"brnthr\", \"vesspa\",    'aldfly', 'ameavo', 'amebit', 'amecro', 'amegfi']\n",
    "\n",
    "ohe = OneHotEncoder(sparse=False)\n",
    "le = LabelEncoder()\n",
    "\n",
    "features = np.array(birds[:5])\n",
    "fint = le.fit_transform(features).reshape(len(features),1)\n",
    "\n",
    "ohe.fit(fint)"
   ]
  },
  {
   "cell_type": "code",
   "execution_count": 5,
   "metadata": {
    "collapsed": false
   },
   "outputs": [],
   "source": [
    "dataMap = {}\n",
    "testMap = {}\n",
    "\n",
    "for bird in birds:\n",
    "    bird_mfcc = getBirdMfcc(bird, filecount=fc)\n",
    "    train_samples = int(0.7*bird_mfcc.shape[0])\n",
    "    test_samples = -1*int(0.3*bird_mfcc.shape[0])\n",
    "    dataMap[bird] = bird_mfcc[:train_samples,]\n",
    "    testMap[bird] = bird_mfcc[test_samples:,]"
   ]
  },
  {
   "cell_type": "code",
   "execution_count": 6,
   "metadata": {
    "collapsed": false
   },
   "outputs": [],
   "source": [
    "model = Sequential()\n",
    "\n",
    "model.add(Bidirectional(LSTM(50, return_sequences=True), input_shape=(None, 50)))\n",
    "model.add(Bidirectional(LSTM(25, return_sequences=True)))\n",
    "model.add(Dense(15, activation = 'tanh'))\n",
    "model.add(Dense(5, activation = 'sigmoid'))\n",
    "\n",
    "model.compile(loss='binary_crossentropy',\n",
    "              optimizer='adam',\n",
    "              metrics=['accuracy'])"
   ]
  },
  {
   "cell_type": "code",
   "execution_count": 7,
   "metadata": {
    "collapsed": false
   },
   "outputs": [
    {
     "name": "stdout",
     "output_type": "stream",
     "text": [
      "Epoch 1/50\n",
      "30/30 [==============================] - 75s 3s/step - loss: 0.4160 - acc: 0.8633 - val_loss: 0.3311 - val_acc: 0.9000\n",
      "Epoch 2/50\n",
      "30/30 [==============================] - 69s 2s/step - loss: 0.3150 - acc: 0.9000 - val_loss: 0.3164 - val_acc: 0.9000\n",
      "Epoch 3/50\n",
      "30/30 [==============================] - 68s 2s/step - loss: 0.2958 - acc: 0.9007 - val_loss: 0.3119 - val_acc: 0.8982\n",
      "Epoch 4/50\n",
      "30/30 [==============================] - 66s 2s/step - loss: 0.2749 - acc: 0.9045 - val_loss: 0.2996 - val_acc: 0.8993\n",
      "Epoch 5/50\n",
      "30/30 [==============================] - 65s 2s/step - loss: 0.2594 - acc: 0.9090 - val_loss: 0.2953 - val_acc: 0.9070\n",
      "Epoch 6/50\n",
      "30/30 [==============================] - 65s 2s/step - loss: 0.2503 - acc: 0.9116 - val_loss: 0.2887 - val_acc: 0.9035\n",
      "Epoch 7/50\n",
      "30/30 [==============================] - 64s 2s/step - loss: 0.2449 - acc: 0.9145 - val_loss: 0.2838 - val_acc: 0.9071\n",
      "Epoch 8/50\n",
      "30/30 [==============================] - 65s 2s/step - loss: 0.2369 - acc: 0.9166 - val_loss: 0.2877 - val_acc: 0.9027\n",
      "Epoch 9/50\n",
      "30/30 [==============================] - 64s 2s/step - loss: 0.2291 - acc: 0.9220 - val_loss: 0.2876 - val_acc: 0.9025\n",
      "Epoch 10/50\n",
      "30/30 [==============================] - 65s 2s/step - loss: 0.2217 - acc: 0.9214 - val_loss: 0.2855 - val_acc: 0.8994\n",
      "Epoch 11/50\n",
      "30/30 [==============================] - 66s 2s/step - loss: 0.2215 - acc: 0.9225 - val_loss: 0.2762 - val_acc: 0.9062\n",
      "Epoch 12/50\n",
      "30/30 [==============================] - 72s 2s/step - loss: 0.2067 - acc: 0.9285 - val_loss: 0.2827 - val_acc: 0.9017\n",
      "Epoch 13/50\n",
      "30/30 [==============================] - 79s 3s/step - loss: 0.1987 - acc: 0.9308 - val_loss: 0.2763 - val_acc: 0.9052\n",
      "Epoch 14/50\n",
      "30/30 [==============================] - 64s 2s/step - loss: 0.1964 - acc: 0.9313 - val_loss: 0.2829 - val_acc: 0.8983\n",
      "Epoch 15/50\n",
      "30/30 [==============================] - 66s 2s/step - loss: 0.1828 - acc: 0.9370 - val_loss: 0.2788 - val_acc: 0.9015\n",
      "Epoch 16/50\n",
      "30/30 [==============================] - 65s 2s/step - loss: 0.1804 - acc: 0.9373 - val_loss: 0.2853 - val_acc: 0.9000\n",
      "Epoch 17/50\n",
      "30/30 [==============================] - 72s 2s/step - loss: 0.1954 - acc: 0.9278 - val_loss: 0.2728 - val_acc: 0.9061\n",
      "Epoch 18/50\n",
      "30/30 [==============================] - 67s 2s/step - loss: 0.1908 - acc: 0.9316 - val_loss: 0.2781 - val_acc: 0.9036\n",
      "Epoch 19/50\n",
      "30/30 [==============================] - 69s 2s/step - loss: 0.1734 - acc: 0.9389 - val_loss: 0.2840 - val_acc: 0.9019\n",
      "Epoch 20/50\n",
      "30/30 [==============================] - 70s 2s/step - loss: 0.1782 - acc: 0.9355 - val_loss: 0.2807 - val_acc: 0.9017\n",
      "Epoch 21/50\n",
      "30/30 [==============================] - 68s 2s/step - loss: 0.1689 - acc: 0.9423 - val_loss: 0.2730 - val_acc: 0.9033\n",
      "Epoch 22/50\n",
      "30/30 [==============================] - 66s 2s/step - loss: 0.1572 - acc: 0.9446 - val_loss: 0.2782 - val_acc: 0.8979\n",
      "Epoch 23/50\n",
      "30/30 [==============================] - 66s 2s/step - loss: 0.1583 - acc: 0.9458 - val_loss: 0.2776 - val_acc: 0.9012\n",
      "Epoch 24/50\n",
      "30/30 [==============================] - 65s 2s/step - loss: 0.1563 - acc: 0.9449 - val_loss: 0.2838 - val_acc: 0.8952\n",
      "Epoch 25/50\n",
      "30/30 [==============================] - 65s 2s/step - loss: 0.1522 - acc: 0.9473 - val_loss: 0.2870 - val_acc: 0.8972\n",
      "Epoch 26/50\n",
      "30/30 [==============================] - 66s 2s/step - loss: 0.1533 - acc: 0.9463 - val_loss: 0.2853 - val_acc: 0.8996\n",
      "Epoch 27/50\n",
      "30/30 [==============================] - 66s 2s/step - loss: 0.1409 - acc: 0.9532 - val_loss: 0.2840 - val_acc: 0.8947\n",
      "Epoch 28/50\n",
      "30/30 [==============================] - 66s 2s/step - loss: 0.1380 - acc: 0.9529 - val_loss: 0.2887 - val_acc: 0.8940\n",
      "Epoch 29/50\n",
      "30/30 [==============================] - 66s 2s/step - loss: 0.1366 - acc: 0.9532 - val_loss: 0.2922 - val_acc: 0.8883\n",
      "Epoch 30/50\n",
      "30/30 [==============================] - 67s 2s/step - loss: 0.1346 - acc: 0.9539 - val_loss: 0.2849 - val_acc: 0.8915\n",
      "Epoch 31/50\n",
      "30/30 [==============================] - 67s 2s/step - loss: 0.1342 - acc: 0.9536 - val_loss: 0.2858 - val_acc: 0.8914\n",
      "Epoch 32/50\n",
      "30/30 [==============================] - 69s 2s/step - loss: 0.1266 - acc: 0.9573 - val_loss: 0.2825 - val_acc: 0.8999\n",
      "Epoch 33/50\n",
      "30/30 [==============================] - 69s 2s/step - loss: 0.1334 - acc: 0.9543 - val_loss: 0.2913 - val_acc: 0.8919\n",
      "Epoch 34/50\n",
      "30/30 [==============================] - 70s 2s/step - loss: 0.1202 - acc: 0.9610 - val_loss: 0.2861 - val_acc: 0.8949\n",
      "Epoch 35/50\n",
      "30/30 [==============================] - 67s 2s/step - loss: 0.1257 - acc: 0.9582 - val_loss: 0.2948 - val_acc: 0.8869\n",
      "Epoch 36/50\n",
      "30/30 [==============================] - 67s 2s/step - loss: 0.1120 - acc: 0.9635 - val_loss: 0.2799 - val_acc: 0.9008\n",
      "Epoch 37/50\n",
      "30/30 [==============================] - 67s 2s/step - loss: 0.1163 - acc: 0.9612 - val_loss: 0.2816 - val_acc: 0.8951\n",
      "Epoch 38/50\n",
      "30/30 [==============================] - 67s 2s/step - loss: 0.1141 - acc: 0.9607 - val_loss: 0.2944 - val_acc: 0.8885\n",
      "Epoch 39/50\n",
      "30/30 [==============================] - 67s 2s/step - loss: 0.1160 - acc: 0.9614 - val_loss: 0.2889 - val_acc: 0.8911\n",
      "Epoch 40/50\n",
      "30/30 [==============================] - 67s 2s/step - loss: 0.1101 - acc: 0.9635 - val_loss: 0.2842 - val_acc: 0.8947\n",
      "Epoch 41/50\n",
      "30/30 [==============================] - 67s 2s/step - loss: 0.0979 - acc: 0.9676 - val_loss: 0.2899 - val_acc: 0.8941\n",
      "Epoch 42/50\n",
      "30/30 [==============================] - 69s 2s/step - loss: 0.1012 - acc: 0.9662 - val_loss: 0.3031 - val_acc: 0.8897\n",
      "Epoch 43/50\n",
      "30/30 [==============================] - 68s 2s/step - loss: 0.0996 - acc: 0.9675 - val_loss: 0.3047 - val_acc: 0.8846\n",
      "Epoch 44/50\n",
      "30/30 [==============================] - 68s 2s/step - loss: 0.1012 - acc: 0.9665 - val_loss: 0.2862 - val_acc: 0.8953\n",
      "Epoch 45/50\n",
      "30/30 [==============================] - 67s 2s/step - loss: 0.1009 - acc: 0.9673 - val_loss: 0.2991 - val_acc: 0.8877\n",
      "Epoch 46/50\n",
      "30/30 [==============================] - 66s 2s/step - loss: 0.0985 - acc: 0.9668 - val_loss: 0.3018 - val_acc: 0.8864\n",
      "Epoch 47/50\n",
      "30/30 [==============================] - 66s 2s/step - loss: 0.0920 - acc: 0.9706 - val_loss: 0.3070 - val_acc: 0.8846\n",
      "Epoch 48/50\n",
      "30/30 [==============================] - 68s 2s/step - loss: 0.0899 - acc: 0.9701 - val_loss: 0.3001 - val_acc: 0.8905\n",
      "Epoch 49/50\n",
      "30/30 [==============================] - 66s 2s/step - loss: 0.0839 - acc: 0.9733 - val_loss: 0.3097 - val_acc: 0.8843\n",
      "Epoch 50/50\n",
      "30/30 [==============================] - 65s 2s/step - loss: 0.0807 - acc: 0.9737 - val_loss: 0.2998 - val_acc: 0.8923\n"
     ]
    }
   ],
   "source": [
    "def train_generator():\n",
    "    while True:\n",
    "        sequence_length = 215\n",
    "        \n",
    "        xarr = []\n",
    "        yarr = []\n",
    "        for k,v in dataMap.items():\n",
    "            nsamples = v.shape[0]\n",
    "            samples = np.random.randint(0,nsamples-sequence_length+1,size=10)\n",
    "            try:\n",
    "                birdohe = ohe.transform(le.transform([k]).reshape(1,1))\n",
    "            except:\n",
    "                birdohe = np.array([[0, 0, 0, 0, 0]])\n",
    "            for sample in samples:\n",
    "                xarr.append(v[sample:sample+sequence_length,:].reshape(1,sequence_length,50))\n",
    "                yarr.append(np.tile(birdohe,(sequence_length,1)).reshape(1,sequence_length,5))\n",
    "        x_train = np.concatenate(xarr)\n",
    "        y_train = np.concatenate(yarr)\n",
    "        x_train, y_train = shuffle(x_train, y_train)\n",
    "        yield x_train, y_train\n",
    "\n",
    "def test_generator():\n",
    "    sequence_length = 215\n",
    "\n",
    "    xarr = []\n",
    "    yarr = []\n",
    "    for k,v in testMap.items():\n",
    "        nsamples = v.shape[0]\n",
    "        samples = np.random.randint(0,nsamples-sequence_length+1,size=1000)\n",
    "        try:\n",
    "            birdohe = ohe.transform(le.transform([k]).reshape(1,1))\n",
    "        except:\n",
    "            birdohe = np.array([[0, 0, 0, 0, 0]])\n",
    "        for sample in samples:\n",
    "            xarr.append(v[sample:sample+sequence_length,:].reshape(1,sequence_length,50))\n",
    "            yarr.append(np.tile(birdohe,(sequence_length,1)).reshape(1,sequence_length,5))\n",
    "    x_train = np.concatenate(xarr)\n",
    "    y_train = np.concatenate(yarr)\n",
    "    x_train, y_train = shuffle(x_train, y_train)\n",
    "    return x_train, y_train\n",
    "\n",
    "x_val,y_val = test_generator()\n",
    "\n",
    "# x,y = train_generator()\n",
    "history = model.fit_generator(train_generator(), steps_per_epoch=30, epochs=n_epochs, verbose=1, validation_data=(x_val, y_val))"
   ]
  },
  {
   "cell_type": "code",
   "execution_count": 8,
   "metadata": {
    "collapsed": true
   },
   "outputs": [],
   "source": [
    "plt.subplot(2,1,1)\n",
    "plt.plot(history.history[\"loss\"])\n",
    "plt.plot(history.history[\"val_loss\"])\n",
    "\n",
    "plt.subplot(2,1,2)\n",
    "plt.plot(history.history[\"acc\"])\n",
    "plt.plot(history.history[\"val_acc\"])\n",
    "plt.show()"
   ]
  },
  {
   "cell_type": "code",
   "execution_count": 9,
   "metadata": {
    "collapsed": true
   },
   "outputs": [],
   "source": [
    "if os.path.exists(\"../input/birdsong-recognition/test_audio/\"):\n",
    "    test_dir = \"../input/birdsong-recognition/test_audio/\"\n",
    "    testtable = pd.read_csv(\"../input/birdsong-recognition/test.csv\")\n",
    "else:\n",
    "    test_dir = \"../input/birdsong-recognition/train_audio/\"\n",
    "    testtable = pd.read_csv(StringIO(prepared_test_str))\n",
    "\n",
    "\n",
    "def load_test_clip(signal, start_time, duration=5):\n",
    "    sr=22050\n",
    "    maxl = len(signal)\n",
    "    \n",
    "    if duration!=None:\n",
    "        y = signal[max(0,int(start_time)*22050):min(int(start_time+duration)*22050,maxl)]\n",
    "    else:\n",
    "        y = signal[max(0,start_time*22050):]\n",
    "    \n",
    "    mfcc_feat = librosa.feature.mfcc(n_mfcc=50, y=y, sr=22050)\n",
    "    return mfcc_feat.T\n",
    "\n",
    "def make_prediction(sound_clip):\n",
    "    predidx = [i for i,each in enumerate(make_probabilities(sound_clip)) if each>prob_cutoff]\n",
    "    if len(predidx)==0:\n",
    "        predbirds = \"nocall\"\n",
    "    else:\n",
    "        predbirds = \" \".join(list(le.inverse_transform(predidx)))\n",
    "    \n",
    "    return predbirds\n",
    "\n",
    "def make_probabilities(sound_clip):\n",
    "    mfccdim = sound_clip.shape\n",
    "    sound_clip = sound_clip.reshape(1,mfccdim[0],mfccdim[1])\n",
    "    \n",
    "    pred = model.predict(sound_clip).reshape(mfccdim[0],5)\n",
    "    \n",
    "    return np.mean(pred,axis=0)"
   ]
  },
  {
   "cell_type": "code",
   "execution_count": 10,
   "metadata": {
    "collapsed": false
   },
   "outputs": [
    {
     "name": "stdout",
     "output_type": "stream",
     "text": [
      "exception\n",
      "exception\n",
      "exception\n",
      "exception\n",
      "exception\n",
      "exception\n",
      "exception\n",
      "exception\n",
      "exception\n",
      "exception\n",
      "exception\n",
      "exception\n",
      "exception\n",
      "exception\n",
      "exception\n",
      "exception\n",
      "exception\n",
      "exception\n",
      "exception\n",
      "exception\n"
     ]
    }
   ],
   "source": [
    "test_info = testtable.sort_values(\"audio_id\")\n",
    "\n",
    "preds = []\n",
    "sound_read = \"\"\n",
    "for index, row in test_info.iterrows():\n",
    "    # Get test row information\n",
    "    site = row['site']\n",
    "    try:\n",
    "        start_time = row['seconds'] - 5\n",
    "    except:\n",
    "        start_time = 0\n",
    "    row_id = row['row_id']\n",
    "    audio_id = row['audio_id']\n",
    "\n",
    "    try:\n",
    "        if sound_read != audio_id:\n",
    "            sound_audio = load_test_audio(test_dir + audio_id + '.mp3')\n",
    "            sound_read = audio_id\n",
    "    except:\n",
    "        print(\"exception\")\n",
    "        pred = \"nocall\"\n",
    "        preds.append(pred)\n",
    "        continue\n",
    "        \n",
    "    if site == 'site_3':\n",
    "        sound_clip = load_test_clip(sound_audio, 0, duration=None)\n",
    "    else:\n",
    "        sound_clip = load_test_clip(sound_audio, start_time)\n",
    "            \n",
    "    \n",
    "    pred = make_prediction(sound_clip)\n",
    "    preds.append(pred)\n",
    "    \n",
    "testtable = test_info.sort_index()\n",
    "\n",
    "test_submission = testtable.drop(['site', 'audio_id', 'seconds'], axis = 1) \n",
    "test_submission['birds'] = preds\n",
    "\n",
    "test_submission.to_csv('submission.csv', index = None)"
   ]
  },
  {
   "cell_type": "code",
   "execution_count": 11,
   "metadata": {
    "collapsed": false
   },
   "outputs": [
    {
     "name": "stdout",
     "output_type": "stream",
     "text": [
      "             row_id   birds\n",
      "0   bulori/XC128942  nocall\n",
      "1   bulori/XC170988  nocall\n",
      "2    normoc/XC54018  nocall\n",
      "3    normoc/XC62791  nocall\n",
      "4    herthr/XC53784  nocall\n",
      "5   herthr/XC119596  nocall\n",
      "6    brnthr/XC31308  nocall\n",
      "7    brnthr/XC53695  nocall\n",
      "8    vesspa/XC17095  nocall\n",
      "9    vesspa/XC17096  nocall\n",
      "10   solsan/XC17025  nocall\n",
      "11   norfli/XC11578  nocall\n",
      "12   lesnig/XC27724  nocall\n",
      "13   grycat/XC31058  nocall\n",
      "14   eastow/XC53188  nocall\n",
      "15    aldfly/XC2628  nocall\n",
      "16   ameavo/XC99571  nocall\n",
      "17  amebit/XC127371  nocall\n",
      "18   amecro/XC51410  nocall\n",
      "19   amegfi/XC17120  nocall\n"
     ]
    }
   ],
   "source": [
    "print(test_submission.head(20))"
   ]
  }
 ],
 "metadata": {
  "anaconda-cloud": {},
  "kernelspec": {
   "display_name": "Python [Root]",
   "language": "python",
   "name": "Python [Root]"
  },
  "language_info": {
   "codemirror_mode": {
    "name": "ipython",
    "version": 3
   },
   "file_extension": ".py",
   "mimetype": "text/x-python",
   "name": "python",
   "nbconvert_exporter": "python",
   "pygments_lexer": "ipython3",
   "version": "3.5.2"
  }
 },
 "nbformat": 4,
 "nbformat_minor": 4
}
